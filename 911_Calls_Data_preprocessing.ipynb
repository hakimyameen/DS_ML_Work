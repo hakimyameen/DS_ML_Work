{
  "cells": [
    {
      "cell_type": "markdown",
      "metadata": {
        "id": "oNW-ZgWWm02F"
      },
      "source": [
        "# 911 Calls Data Preprocessing"
      ]
    },
    {
      "cell_type": "markdown",
      "metadata": {
        "id": "yf4dRD71m02H"
      },
      "source": [
        "#### The database is a record of all records the emergency 911 calls over an interval of time. each call is recorded as an instance while recording features of each call. The features are broken down as follows:\n",
        "\n",
        "##### These two features represent the location as identified by the Opearator\n",
        "\n",
        "1. lat : String variable, Latitude\n",
        "\n",
        "2. lng: String variable, Longitude\n",
        "\n",
        "3. desc: String variable, Description of the Emergency Call, reason and nature of emergency\n",
        "\n",
        "4. zip: String variable, Zipcode of the reporter as provided by the caller\n",
        "\n",
        "5. title: String variable, Title\n",
        "\n",
        "6. timeStamp: String variable, YYYY-MM-DD HH:MM:SS\n",
        "\n",
        "7. twp: String variable, Township\n",
        "\n",
        "8. addr: String variable, Address\n",
        "\n",
        "9. e: String variable, Dummy variable (always 1)"
      ]
    },
    {
      "cell_type": "markdown",
      "metadata": {
        "id": "3B7JzETAm02J"
      },
      "source": [
        "## Data and Set Up"
      ]
    },
    {
      "cell_type": "code",
      "execution_count": null,
      "metadata": {
        "id": "v8zcDxMVm02J"
      },
      "outputs": [],
      "source": [
        "# Import libraries\n",
        "import numpy as np\n",
        "import pandas as pd\n",
        "\n",
        "# Import visualization libraries\n",
        "import matplotlib.pyplot as plt\n",
        "import seaborn as sns"
      ]
    },
    {
      "cell_type": "code",
      "execution_count": null,
      "metadata": {
        "scrolled": true,
        "id": "kE4iibeOm02K"
      },
      "outputs": [],
      "source": [
        "# Read data\n",
        "df = pd.read_csv('911.csv')\n",
        "\n",
        "# Check dataframe info()\n",
        "df.info()"
      ]
    },
    {
      "cell_type": "code",
      "execution_count": null,
      "metadata": {
        "id": "R-db-gDqm02M"
      },
      "outputs": [],
      "source": [
        "df.lat = df.lat.astype('float16')"
      ]
    },
    {
      "cell_type": "code",
      "execution_count": null,
      "metadata": {
        "scrolled": true,
        "id": "_BTLtgX1m02N"
      },
      "outputs": [],
      "source": [
        "df.info()"
      ]
    },
    {
      "cell_type": "code",
      "execution_count": null,
      "metadata": {
        "id": "LcRaPF71m02N"
      },
      "outputs": [],
      "source": [
        "df.twp = df.twp.astype('category')"
      ]
    },
    {
      "cell_type": "code",
      "execution_count": null,
      "metadata": {
        "id": "KUw74x90m02O"
      },
      "outputs": [],
      "source": [
        "df.info()"
      ]
    },
    {
      "cell_type": "code",
      "execution_count": null,
      "metadata": {
        "id": "KsNrLSH6m02Q"
      },
      "outputs": [],
      "source": [
        "# Check first 5 entries\n",
        "df.head()"
      ]
    },
    {
      "cell_type": "code",
      "execution_count": null,
      "metadata": {
        "id": "SMxyEVBpm02Q"
      },
      "outputs": [],
      "source": [
        "#check descr column\n",
        "df.desc"
      ]
    },
    {
      "cell_type": "markdown",
      "metadata": {
        "id": "p2x-l9iZm02Q"
      },
      "source": [
        "## Basic Questions"
      ]
    },
    {
      "cell_type": "code",
      "execution_count": null,
      "metadata": {
        "scrolled": true,
        "id": "Aa62gXAFm02R"
      },
      "outputs": [],
      "source": [
        "#check columns\n",
        "df.columns"
      ]
    },
    {
      "cell_type": "code",
      "execution_count": null,
      "metadata": {
        "scrolled": true,
        "id": "odILP-jCm02R"
      },
      "outputs": [],
      "source": [
        "df.rename(columns={'zip':'zipcode'})"
      ]
    },
    {
      "cell_type": "code",
      "execution_count": null,
      "metadata": {
        "id": "3InVdYljm02S"
      },
      "outputs": [],
      "source": [
        "#check nan value\n",
        "df.isna().sum()"
      ]
    },
    {
      "cell_type": "code",
      "execution_count": null,
      "metadata": {
        "id": "DCXtCaFBm02S"
      },
      "outputs": [],
      "source": [
        "df.isna().sum().plot(kind='bar')"
      ]
    },
    {
      "cell_type": "code",
      "execution_count": null,
      "metadata": {
        "id": "UZsi8Pz_m02T"
      },
      "outputs": [],
      "source": [
        "#check missing values\n",
        "sns.heatmap(df.isna())"
      ]
    },
    {
      "cell_type": "code",
      "execution_count": null,
      "metadata": {
        "id": "u8s_UZABm02V"
      },
      "outputs": [],
      "source": [
        "# Check for unique titles\n",
        "df.title.unique()"
      ]
    },
    {
      "cell_type": "markdown",
      "metadata": {
        "id": "S9EzWCsqm02V"
      },
      "source": [
        "## Creating New Features"
      ]
    },
    {
      "cell_type": "markdown",
      "metadata": {
        "id": "4pGhLNW9m02V"
      },
      "source": [
        "** In the title column there are 'Reasons/Departments' specified before the title code.  These are EMS, Fire, and Traffic.   \n",
        "Use .apply() with a custom lambda expression to create a new column called 'Reason' that contains this string value.**"
      ]
    },
    {
      "cell_type": "code",
      "execution_count": null,
      "metadata": {
        "id": "KftE2BJOm02V"
      },
      "outputs": [],
      "source": [
        "# Select example\n",
        "x = df['title'][0]\n",
        "x"
      ]
    },
    {
      "cell_type": "code",
      "execution_count": null,
      "metadata": {
        "id": "PPSsAtwSm02W"
      },
      "outputs": [],
      "source": [
        "x.split(':')[0]"
      ]
    },
    {
      "cell_type": "code",
      "execution_count": null,
      "metadata": {
        "id": "dPE-OWcvm02W"
      },
      "outputs": [],
      "source": [
        "df['title'].apply(lambda title : title.split(':')[0])"
      ]
    },
    {
      "cell_type": "code",
      "execution_count": null,
      "metadata": {
        "id": "YJVTYwNJm02W"
      },
      "outputs": [],
      "source": [
        "# Create reason column\n",
        "df['Reason']=df['title'].apply(lambda title : title.split(':')[0])\n",
        "df['Reason'].head()"
      ]
    },
    {
      "cell_type": "markdown",
      "metadata": {
        "id": "fIIaNxgwm02W"
      },
      "source": [
        "## ** What is the most common reason for a 911 call based off this new column?**"
      ]
    },
    {
      "cell_type": "code",
      "execution_count": null,
      "metadata": {
        "id": "KUqZ6foPm02X"
      },
      "outputs": [],
      "source": [
        "df.Reason"
      ]
    },
    {
      "cell_type": "code",
      "execution_count": null,
      "metadata": {
        "scrolled": true,
        "id": "FeEoCgPam02X"
      },
      "outputs": [],
      "source": [
        "df['Reason'].value_counts()"
      ]
    },
    {
      "cell_type": "code",
      "execution_count": null,
      "metadata": {
        "scrolled": true,
        "id": "sMQXulAkm02X"
      },
      "outputs": [],
      "source": [
        "df['Reason'].value_counts().plot(kind='pie',autopct='%.2f%%')"
      ]
    },
    {
      "cell_type": "markdown",
      "metadata": {
        "id": "aEPZKOoZm02Y"
      },
      "source": [
        "From above graph, we can see, most calls are from EMS category and percentage is 49%. Out of total 3,\n",
        "summary is as follows:\n",
        "    - EMS: 49%\n",
        "    - Traffi: 36%\n",
        "    - Fire: 15%"
      ]
    },
    {
      "cell_type": "markdown",
      "metadata": {
        "id": "Xv9FdRMPm02Y"
      },
      "source": [
        "# ** Use seaborn to create a countplot of 911 calls by Reason**"
      ]
    },
    {
      "cell_type": "code",
      "execution_count": null,
      "metadata": {
        "id": "OsctKZtxm02Y"
      },
      "outputs": [],
      "source": [
        "sns.countplot(x = 'Reason',data = df, palette = 'rainbow')"
      ]
    },
    {
      "cell_type": "markdown",
      "metadata": {
        "id": "9YJFwrWDm02Y"
      },
      "source": [
        "## ** What is the data type of the objects in the timeStamp column?**"
      ]
    },
    {
      "cell_type": "code",
      "execution_count": null,
      "metadata": {
        "id": "BFoSyYrkm02Y"
      },
      "outputs": [],
      "source": [
        "df.timeStamp #combination of Date and time"
      ]
    },
    {
      "cell_type": "code",
      "execution_count": null,
      "metadata": {
        "scrolled": true,
        "id": "am8LDsqYm02Z"
      },
      "outputs": [],
      "source": [
        "df.dtypes"
      ]
    },
    {
      "cell_type": "code",
      "execution_count": null,
      "metadata": {
        "id": "wCHWrh04m02Z"
      },
      "outputs": [],
      "source": [
        "type(df['timeStamp'].iloc[0])"
      ]
    },
    {
      "cell_type": "markdown",
      "metadata": {
        "id": "gtqRyiiHm02a"
      },
      "source": [
        "## ** Convert timeStamp from strings to DateTime object**"
      ]
    },
    {
      "cell_type": "code",
      "execution_count": null,
      "metadata": {
        "id": "jbqla0y1m02a"
      },
      "outputs": [],
      "source": [
        "df['timeStamp']=pd.to_datetime(df['timeStamp'])\n",
        "type(df['timeStamp'].iloc[0])"
      ]
    },
    {
      "cell_type": "code",
      "execution_count": null,
      "metadata": {
        "id": "C1Ifg6IMm02a"
      },
      "outputs": [],
      "source": [
        "df.timeStamp"
      ]
    },
    {
      "cell_type": "markdown",
      "metadata": {
        "id": "_myRWpJhm02a"
      },
      "source": [
        "** Now that the timestamp column are actually DateTime objects, use .apply() to create 3 new columns called Hour, Month, and Day of Week.  \n",
        "Create these columns based off of the timeStamp column.**"
      ]
    },
    {
      "cell_type": "code",
      "execution_count": null,
      "metadata": {
        "id": "AEFVxKnUm02a"
      },
      "outputs": [],
      "source": [
        "df['timeStamp'].iloc[0]"
      ]
    },
    {
      "cell_type": "code",
      "execution_count": null,
      "metadata": {
        "id": "POZB6E2zm02b"
      },
      "outputs": [],
      "source": [
        "time = df['timeStamp'].iloc[0]\n",
        "time"
      ]
    },
    {
      "cell_type": "code",
      "execution_count": null,
      "metadata": {
        "id": "_M3jyE-1m02c"
      },
      "outputs": [],
      "source": [
        "time.day"
      ]
    },
    {
      "cell_type": "code",
      "execution_count": null,
      "metadata": {
        "id": "_3kMmdthm02d"
      },
      "outputs": [],
      "source": [
        "time.hour"
      ]
    },
    {
      "cell_type": "code",
      "execution_count": null,
      "metadata": {
        "id": "BFrcHtbOm02e"
      },
      "outputs": [],
      "source": [
        "time.day_name()"
      ]
    },
    {
      "cell_type": "code",
      "execution_count": null,
      "metadata": {
        "id": "Yq1BEqDZm02e"
      },
      "outputs": [],
      "source": [
        "df['timeStamp'].apply(lambda time : time.hour)"
      ]
    },
    {
      "cell_type": "code",
      "execution_count": null,
      "metadata": {
        "scrolled": true,
        "id": "f-Ex_dy_m02f"
      },
      "outputs": [],
      "source": [
        "# Create hour column\n",
        "df['Hour'] = df['timeStamp'].apply(lambda time : time.hour)"
      ]
    },
    {
      "cell_type": "code",
      "execution_count": null,
      "metadata": {
        "id": "0emta-uQm02f"
      },
      "outputs": [],
      "source": [
        "df['Hour'].value_counts()"
      ]
    },
    {
      "cell_type": "code",
      "execution_count": null,
      "metadata": {
        "id": "0FDqZkkWm02g"
      },
      "outputs": [],
      "source": [
        "df[:2]"
      ]
    },
    {
      "cell_type": "code",
      "execution_count": null,
      "metadata": {
        "id": "YS926sH5m02g"
      },
      "outputs": [],
      "source": [
        "# Create month column\n",
        "df['Month'] = df['timeStamp'].apply(lambda time : time.month)\n",
        "df['Month'].value_counts()"
      ]
    },
    {
      "cell_type": "code",
      "execution_count": null,
      "metadata": {
        "scrolled": false,
        "id": "vu6zX2CDm02g"
      },
      "outputs": [],
      "source": [
        "# Create day of week\n",
        "df['Day of Week'] = df['timeStamp'].apply(lambda time : time.dayofweek)\n",
        "df['Day of Week'].value_counts()"
      ]
    },
    {
      "cell_type": "code",
      "execution_count": null,
      "metadata": {
        "id": "KKsX3dy0m02g"
      },
      "outputs": [],
      "source": [
        "day = df['timeStamp'].apply(lambda time : time.day_name())\n",
        "day.value_counts()"
      ]
    },
    {
      "cell_type": "markdown",
      "metadata": {
        "id": "IuEsO1Zom02h"
      },
      "source": [
        "## ** Notice how the Day of Week is an integer 0-6. Use the .map() with a dictionary to map the actual string names to the day of the week**"
      ]
    },
    {
      "cell_type": "code",
      "execution_count": null,
      "metadata": {
        "scrolled": false,
        "id": "LU0HFAzLm02h"
      },
      "outputs": [],
      "source": [
        "df"
      ]
    },
    {
      "cell_type": "code",
      "execution_count": null,
      "metadata": {
        "id": "g4Ec0wT5m02h"
      },
      "outputs": [],
      "source": [
        "df.columns"
      ]
    },
    {
      "cell_type": "code",
      "execution_count": null,
      "metadata": {
        "id": "NKfT0DIkm02i"
      },
      "outputs": [],
      "source": [
        "df['Day of Week'].unique()"
      ]
    },
    {
      "cell_type": "code",
      "execution_count": null,
      "metadata": {
        "id": "6hk7tjXKm02i"
      },
      "outputs": [],
      "source": [
        "# Create dictionary\n",
        "dmap = {0:'Mon',1:'Tue',2:'Wed',3:'Thu',4:'Fri',5:'Sat',6:'Sun'}\n",
        "dmap"
      ]
    },
    {
      "cell_type": "code",
      "execution_count": null,
      "metadata": {
        "id": "1jVCUQ3Mm02i"
      },
      "outputs": [],
      "source": [
        "# Map string names\n",
        "df['Day of Week'] = df['Day of Week'].map(dmap)\n",
        "df['Day of Week']"
      ]
    },
    {
      "cell_type": "code",
      "execution_count": null,
      "metadata": {
        "id": "EcMNAJQ4m02i"
      },
      "outputs": [],
      "source": [
        "df['Day of Week'][:4]"
      ]
    },
    {
      "cell_type": "code",
      "execution_count": null,
      "metadata": {
        "id": "gAw-hfNgm02j"
      },
      "outputs": [],
      "source": [
        "df['Day of Week'].value_counts()"
      ]
    }
  ],
  "metadata": {
    "kernelspec": {
      "display_name": "Python 3 (ipykernel)",
      "language": "python",
      "name": "python3"
    },
    "language_info": {
      "codemirror_mode": {
        "name": "ipython",
        "version": 3
      },
      "file_extension": ".py",
      "mimetype": "text/x-python",
      "name": "python",
      "nbconvert_exporter": "python",
      "pygments_lexer": "ipython3",
      "version": "3.9.7"
    },
    "colab": {
      "provenance": []
    }
  },
  "nbformat": 4,
  "nbformat_minor": 0
}