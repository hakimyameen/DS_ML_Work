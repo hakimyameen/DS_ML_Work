{
  "cells": [
    {
      "cell_type": "markdown",
      "id": "6ef5174d",
      "metadata": {
        "id": "6ef5174d"
      },
      "source": [
        "# **Cross Validation**\n",
        "> In machine learning, we couldn’t fit the model on the training data and can’t say that the model will work accurately for the real data. For this, we must assure that our model got the correct patterns from the data, and it is not getting up too much noise. For this purpose, we use the cross-validation technique. In this article, we’ll delve into the process of cross-validation in machine learning.\n",
        "\n",
        "#### **What is Cross-Validation?**\n",
        ">Cross validation is a technique used in machine learning to evaluate the performance of a model on unseen data. It involves dividing the available data into multiple folds or subsets, using one of these folds as a validation set, and training the model on the remaining folds. This process is repeated multiple times, each time using a different fold as the validation set. Finally, the results from each validation step are averaged to produce a more robust estimate of the model’s performance. ![1-Cross-Validation.webp](data:image/webp;base64,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)"
      ]
    },
    {
      "cell_type": "markdown",
      "source": [],
      "metadata": {
        "id": "lf1eFerip5Ty"
      },
      "id": "lf1eFerip5Ty"
    },
    {
      "cell_type": "markdown",
      "id": "ab29de21",
      "metadata": {
        "id": "ab29de21"
      },
      "source": [
        "## we have 2 options:\n",
        "# Stratified Kfold\n",
        "# Kfold cross validation"
      ]
    },
    {
      "cell_type": "code",
      "execution_count": null,
      "id": "adf75448",
      "metadata": {
        "id": "adf75448"
      },
      "outputs": [],
      "source": [
        "input Data: [0,1,2,3,4,5,6,7]\n",
        "output Data:[0,0,0,0,1,1,1,1]\n",
        "---------------------------------------\n",
        "Apply StratifiedKFold done\n",
        "# it return index as an output\n",
        "# folds= 4 fold means 8/3 = 2 records everytime in test\n",
        "#Stratified Kfold balance outputs\n",
        "# It depends on both input + output\n",
        "Train: [1 2 3 5 6 7] | test: [0 4]==> 0,1\n",
        "Train: [0 2 3 4 6 7] | test: [1 5]\n",
        "Train: [0 1 3 4 5 7] | test: [2 6]\n",
        "Train: [0 1 2 4 5 6] | test: [3 7]\n",
        "\n",
        "\n",
        "Apply KFold: done\n",
        "# Kfold focus on Inputs\n",
        "# Kfold doesnt focus on balancing of outputs\n",
        "Train: [2 3 4 5 6 7] | test: [0 1]\n",
        "Train: [0 1 4 5 6 7] | test: [2 3]\n",
        "Train: [0 1 2 3 6 7] | test: [4 5]\n",
        "Train: [0 1 2 3 4 5] | test: [6 7]\n",
        "\n",
        "https://stackoverflow.com/questions/65318931/stratifiedkfold-vs-kfold-in-scikit-learn"
      ]
    },
    {
      "cell_type": "raw",
      "id": "f6f7633c",
      "metadata": {
        "id": "f6f7633c"
      },
      "source": [
        "**KFold is used in Regression**\n",
        "\n",
        "**StratifiedKFold used in Classification**"
      ]
    },
    {
      "cell_type": "code",
      "execution_count": null,
      "id": "eb81462a",
      "metadata": {
        "id": "eb81462a"
      },
      "outputs": [],
      "source": [
        "import numpy as np\n",
        "from sklearn.model_selection import KFold,StratifiedKFold\n",
        "#from sklearn.model_selection import StratifiedKFold"
      ]
    },
    {
      "cell_type": "code",
      "execution_count": null,
      "id": "04a6e5c3",
      "metadata": {
        "id": "04a6e5c3"
      },
      "outputs": [],
      "source": [
        "x = np.array([\n",
        "    [1,2,3,4],\n",
        "    [11,12,13,14],\n",
        "    [21,22,23,24],\n",
        "    [31,32,33,34],\n",
        "    [41,42,43,44],\n",
        "    [51,52,53,54],\n",
        "    [61,62,63,64],\n",
        "    [71,72,73,74]\n",
        "])\n",
        "\n",
        "y_n = np.array([0,0,0,0,1,1,1,1])"
      ]
    },
    {
      "cell_type": "code",
      "execution_count": null,
      "id": "3b127f75",
      "metadata": {
        "id": "3b127f75"
      },
      "outputs": [],
      "source": [
        "8/5 #test will hold 2"
      ]
    },
    {
      "cell_type": "code",
      "execution_count": null,
      "id": "26600ae7",
      "metadata": {
        "id": "26600ae7"
      },
      "outputs": [],
      "source": [
        "kf_3 = KFold(n_splits=5)"
      ]
    },
    {
      "cell_type": "code",
      "execution_count": null,
      "id": "2a41a4e0",
      "metadata": {
        "scrolled": true,
        "id": "2a41a4e0"
      },
      "outputs": [],
      "source": [
        "y_n"
      ]
    },
    {
      "cell_type": "code",
      "execution_count": null,
      "id": "4fca70d8",
      "metadata": {
        "id": "4fca70d8"
      },
      "outputs": [],
      "source": [
        "list(kf_3.split(x)) # return an array of index for training and test samples"
      ]
    },
    {
      "cell_type": "code",
      "execution_count": null,
      "id": "bd39fc88",
      "metadata": {
        "id": "bd39fc88"
      },
      "outputs": [],
      "source": [
        "kf = KFold(n_splits=4)\n",
        "# default  n_split=5"
      ]
    },
    {
      "cell_type": "code",
      "execution_count": null,
      "id": "ae6e0c93",
      "metadata": {
        "id": "ae6e0c93"
      },
      "outputs": [],
      "source": [
        "8/4"
      ]
    },
    {
      "cell_type": "code",
      "execution_count": null,
      "id": "08cbd03c",
      "metadata": {
        "id": "08cbd03c"
      },
      "outputs": [],
      "source": [
        "#Generate indices to split data into training and test set.\n",
        "list(kf.split(x))"
      ]
    },
    {
      "cell_type": "code",
      "execution_count": null,
      "id": "1b870cce",
      "metadata": {
        "scrolled": true,
        "id": "1b870cce"
      },
      "outputs": [],
      "source": [
        "x.shape"
      ]
    },
    {
      "cell_type": "code",
      "execution_count": null,
      "id": "10da721a",
      "metadata": {
        "id": "10da721a"
      },
      "outputs": [],
      "source": [
        "kf"
      ]
    },
    {
      "cell_type": "code",
      "execution_count": null,
      "id": "74b5be56",
      "metadata": {
        "scrolled": true,
        "id": "74b5be56"
      },
      "outputs": [],
      "source": [
        "for index in kf.split(x):\n",
        "    print(index)"
      ]
    },
    {
      "cell_type": "code",
      "execution_count": null,
      "id": "2424c14a",
      "metadata": {
        "id": "2424c14a"
      },
      "outputs": [],
      "source": [
        "for train_index,test_index in kf.split(x):\n",
        "    print('train:',train_index,'test:',test_index)"
      ]
    },
    {
      "cell_type": "code",
      "execution_count": null,
      "id": "8f4dca62",
      "metadata": {
        "scrolled": true,
        "id": "8f4dca62"
      },
      "outputs": [],
      "source": [
        "for train_index,test_index in kf.split(x):\n",
        "    print('X_train:',x[train_index],'y_train:',y_n[train_index],'X_test:',x[test_index],'y_test:',y_n[test_index],sep='\\n')\n",
        "    print('-----------------------------')\n",
        "    # X_train,y_train,x_test,y_test"
      ]
    },
    {
      "cell_type": "code",
      "execution_count": null,
      "id": "af7480f6",
      "metadata": {
        "id": "af7480f6"
      },
      "outputs": [],
      "source": [
        "\"\"\"\n",
        "Kfold split gives index\n",
        "index se hum data banate hai\n",
        "train index+ test_index\n",
        "X[train_index]==> X_train\n",
        "X[test_index]==> X_test\n",
        "y[train_index]==> y_train\n",
        "y[test_index]==> y_test\n",
        "\"\"\""
      ]
    },
    {
      "cell_type": "markdown",
      "id": "002a3b0f",
      "metadata": {
        "id": "002a3b0f"
      },
      "source": [
        "# Using Stratified"
      ]
    },
    {
      "cell_type": "code",
      "execution_count": null,
      "id": "83778a44",
      "metadata": {
        "id": "83778a44"
      },
      "outputs": [],
      "source": [
        "skf = StratifiedKFold(n_splits=4)\n",
        "skf"
      ]
    },
    {
      "cell_type": "code",
      "execution_count": null,
      "id": "e0a8966a",
      "metadata": {
        "scrolled": false,
        "id": "e0a8966a"
      },
      "outputs": [],
      "source": [
        "skf.split(x,y_n)"
      ]
    },
    {
      "cell_type": "code",
      "execution_count": null,
      "id": "d0fa7f27",
      "metadata": {
        "id": "d0fa7f27"
      },
      "outputs": [],
      "source": [
        "list(skf.split(x,y_n))\n",
        "#[array(training_index),array(test_index)]"
      ]
    },
    {
      "cell_type": "code",
      "execution_count": null,
      "id": "d46cd32a",
      "metadata": {
        "id": "d46cd32a"
      },
      "outputs": [],
      "source": [
        "y_n"
      ]
    },
    {
      "cell_type": "code",
      "execution_count": null,
      "id": "44a089c7",
      "metadata": {
        "id": "44a089c7"
      },
      "outputs": [],
      "source": [
        "for train_index,test_index in skf.split(x,y_n):\n",
        "    print('X_train:',x[train_index],'y_train:',y_n[train_index],'X_test:',x[test_index],'y_test:',y_n[test_index],sep='\\n')\n",
        "    print('-----------------------------')"
      ]
    },
    {
      "cell_type": "code",
      "execution_count": null,
      "id": "ff548727",
      "metadata": {
        "id": "ff548727"
      },
      "outputs": [],
      "source": [
        "# If we have imbalanaced Data\n",
        "x_1 = np.array([\n",
        "    [1,2,3,4],\n",
        "    [11,12,13,14],\n",
        "    [21,22,23,24],\n",
        "    [31,32,33,34],\n",
        "    [41,42,43,44],\n",
        "    [51,52,53,54],\n",
        "    [61,62,63,64],\n",
        "    [71,72,73,74]\n",
        "])\n",
        "\n",
        "y_1 = np.array([0,0,0,1,1,1,1,1])"
      ]
    },
    {
      "cell_type": "code",
      "execution_count": null,
      "id": "8c40d9cb",
      "metadata": {
        "id": "8c40d9cb"
      },
      "outputs": [],
      "source": [
        "# test records =  total number of rows/number of splits"
      ]
    },
    {
      "cell_type": "code",
      "execution_count": null,
      "id": "b7b7e9e8",
      "metadata": {
        "scrolled": true,
        "id": "b7b7e9e8"
      },
      "outputs": [],
      "source": [
        "skf_1 = StratifiedKFold(n_splits=2)\n",
        "list(skf_1.split(x_1,y_1))"
      ]
    },
    {
      "cell_type": "code",
      "execution_count": null,
      "id": "e6668894",
      "metadata": {
        "id": "e6668894"
      },
      "outputs": [],
      "source": [
        "skf_1"
      ]
    },
    {
      "cell_type": "code",
      "execution_count": null,
      "id": "f401f8c4",
      "metadata": {
        "id": "f401f8c4"
      },
      "outputs": [],
      "source": [
        "for train_index,test_index in skf_1.split(x_1,y_1):\n",
        "    print(train_index,test_index)"
      ]
    },
    {
      "cell_type": "code",
      "execution_count": null,
      "id": "0998b096",
      "metadata": {
        "id": "0998b096"
      },
      "outputs": [],
      "source": [
        "y_1"
      ]
    },
    {
      "cell_type": "code",
      "execution_count": null,
      "id": "a73203d2",
      "metadata": {
        "id": "a73203d2"
      },
      "outputs": [],
      "source": [
        "for train_index,test_index in skf_1.split(x_1,y_1):\n",
        "    print('X_train:',x_1[train_index],'y_train:',y_1[train_index],'X_test:',x_1[test_index],'y_test:',y_1[test_index],sep='\\n')\n",
        "    print('-----------------------------')"
      ]
    },
    {
      "cell_type": "markdown",
      "id": "10f614f1",
      "metadata": {
        "id": "10f614f1"
      },
      "source": [
        "## Apply Kfold on Bank note classification data"
      ]
    },
    {
      "cell_type": "code",
      "source": [
        "import numpy as np\n",
        "import pandas as pd"
      ],
      "metadata": {
        "id": "14pEJ_iIqO7M"
      },
      "id": "14pEJ_iIqO7M",
      "execution_count": null,
      "outputs": []
    },
    {
      "cell_type": "code",
      "source": [
        "df = pd.read_csv('https://raw.githubusercontent.com/hakimyameen/DS_ML_Work/main/banknotes.csv')\n",
        "df[:2]"
      ],
      "metadata": {
        "id": "QPC3Wn4CqwaS"
      },
      "id": "QPC3Wn4CqwaS",
      "execution_count": null,
      "outputs": []
    },
    {
      "cell_type": "code",
      "execution_count": null,
      "id": "bf95bf77",
      "metadata": {
        "id": "bf95bf77"
      },
      "outputs": [],
      "source": [
        "inp = df.iloc[:,:-1]\n",
        "out = df['Class']"
      ]
    },
    {
      "cell_type": "code",
      "execution_count": null,
      "id": "ace4506e",
      "metadata": {
        "id": "ace4506e"
      },
      "outputs": [],
      "source": [
        "skf"
      ]
    },
    {
      "cell_type": "code",
      "execution_count": null,
      "id": "da04096c",
      "metadata": {
        "scrolled": true,
        "id": "da04096c"
      },
      "outputs": [],
      "source": [
        "inp[:2]"
      ]
    },
    {
      "cell_type": "code",
      "execution_count": null,
      "id": "c92f7720",
      "metadata": {
        "id": "c92f7720"
      },
      "outputs": [],
      "source": [
        "inp = inp.values\n",
        "inp"
      ]
    },
    {
      "cell_type": "code",
      "execution_count": null,
      "id": "56b9e93b",
      "metadata": {
        "scrolled": true,
        "id": "56b9e93b"
      },
      "outputs": [],
      "source": [
        "out[:3]"
      ]
    },
    {
      "cell_type": "code",
      "execution_count": null,
      "id": "2bc57d65",
      "metadata": {
        "scrolled": true,
        "id": "2bc57d65"
      },
      "outputs": [],
      "source": [
        "len(inp)"
      ]
    },
    {
      "cell_type": "code",
      "execution_count": null,
      "id": "80ef2dcb",
      "metadata": {
        "id": "80ef2dcb"
      },
      "outputs": [],
      "source": [
        "1372/4"
      ]
    },
    {
      "cell_type": "code",
      "execution_count": null,
      "id": "99c4656c",
      "metadata": {
        "id": "99c4656c"
      },
      "outputs": [],
      "source": [
        "y.value_counts()"
      ]
    },
    {
      "cell_type": "code",
      "execution_count": null,
      "id": "1506004d",
      "metadata": {
        "scrolled": true,
        "id": "1506004d"
      },
      "outputs": [],
      "source": [
        "for train_index,test_index in skf.split(inp,out):\n",
        "    #print(len(inp[train_index]),len(out[test_index]))\n",
        "    print(inp[train_index],inp[test_index],out[train_index],out[test_index])\n",
        "          # X_train,X_test,y_train,y_test"
      ]
    },
    {
      "cell_type": "code",
      "execution_count": null,
      "id": "d697eb12",
      "metadata": {
        "id": "d697eb12"
      },
      "outputs": [],
      "source": [
        "from sklearn.tree import DecisionTreeClassifier\n",
        "model = DecisionTreeClassifier()"
      ]
    },
    {
      "cell_type": "code",
      "execution_count": null,
      "id": "308545ab",
      "metadata": {
        "id": "308545ab"
      },
      "outputs": [],
      "source": [
        "from sklearn.metrics import accuracy_score"
      ]
    },
    {
      "cell_type": "code",
      "execution_count": null,
      "id": "6402d6fc",
      "metadata": {
        "id": "6402d6fc"
      },
      "outputs": [],
      "source": [
        "avg = []\n",
        "for train_index,test_index in skf.split(inp,out):\n",
        "    X_train,y_train = inp[train_index],out[train_index]\n",
        "    X_test,y_test = inp[test_index],out[test_index]\n",
        "    model.fit(X_train,y_train)\n",
        "    #print(model.score(X_train,y_train)*100,model.score(X_test,y_test)*100)\n",
        "    y_pred = model.predict(X_test)\n",
        "    #print(accuracy_score(y_test,y_pred))\n",
        "    avg.append(accuracy_score(y_test,y_pred))\n",
        "print('Average Accuracy is:',np.mean(avg)*100)"
      ]
    },
    {
      "cell_type": "code",
      "execution_count": null,
      "id": "4d3ea89d",
      "metadata": {
        "id": "4d3ea89d"
      },
      "outputs": [],
      "source": [
        "# SIMPLEST OPTION IS TO USE\n",
        "from sklearn.model_selection import cross_val_score\n",
        "cross_val_score(model,inp,out,cv=4).mean()*100"
      ]
    }
  ],
  "metadata": {
    "kernelspec": {
      "display_name": "Python 3 (ipykernel)",
      "language": "python",
      "name": "python3"
    },
    "language_info": {
      "codemirror_mode": {
        "name": "ipython",
        "version": 3
      },
      "file_extension": ".py",
      "mimetype": "text/x-python",
      "name": "python",
      "nbconvert_exporter": "python",
      "pygments_lexer": "ipython3",
      "version": "3.9.7"
    },
    "colab": {
      "provenance": []
    }
  },
  "nbformat": 4,
  "nbformat_minor": 5
}