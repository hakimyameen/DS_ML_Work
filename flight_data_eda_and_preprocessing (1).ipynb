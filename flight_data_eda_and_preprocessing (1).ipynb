{
  "cells": [
    {
      "cell_type": "markdown",
      "id": "8caa3f13",
      "metadata": {
        "papermill": {
          "duration": 0.040276,
          "end_time": "2023-08-02T20:42:33.110094",
          "exception": false,
          "start_time": "2023-08-02T20:42:33.069818",
          "status": "completed"
        },
        "tags": [],
        "id": "8caa3f13"
      },
      "source": [
        "<img src=\"https://github.com/FarzadNekouee/Flight-EDA-to-Preprocessing/blob/master/image.jpg?raw=true\" width=\"1800\">\n"
      ]
    },
    {
      "cell_type": "markdown",
      "id": "a4bcf70e",
      "metadata": {
        "papermill": {
          "duration": 0.033019,
          "end_time": "2023-08-02T20:42:33.183252",
          "exception": false,
          "start_time": "2023-08-02T20:42:33.150233",
          "status": "completed"
        },
        "tags": [],
        "id": "a4bcf70e"
      },
      "source": [
        "<div style=\"border-radius:10px; padding: 15px; background-color: #e2c9ff; font-size:115%; text-align:left\">\n",
        "\n",
        "<h3 align=\"left\"><font color=#8502d1>Problem:</font></h3>\n",
        "\n",
        "Welcome to our journey through a cool dataset all about flights! This dataset is like a big treasure chest, full of information about when flights leave, when they arrive, how long they're delayed, how far they go, and lots more. We'll be playing detective to spot patterns and find clues that help us figure out what makes flights late. So, let's buckle up and get ready for a fun ride through this flight data!"
      ]
    },
    {
      "cell_type": "markdown",
      "id": "da1a3b39",
      "metadata": {
        "papermill": {
          "duration": 0.031138,
          "end_time": "2023-08-02T20:42:33.247949",
          "exception": false,
          "start_time": "2023-08-02T20:42:33.216811",
          "status": "completed"
        },
        "tags": [],
        "id": "da1a3b39"
      },
      "source": [
        "<div style=\"border-radius:10px; padding: 15px; background-color: #e2c9ff; font-size:115%; text-align:left\">\n",
        "\n",
        "<h3 align=\"left\"><font color=#8502d1>Objectives:</font></h3>\n",
        "    \n",
        "1. Data Understanding\n",
        "2. Exploratory Data Analysis (EDA)\n",
        "   - Univariate Analysis\n",
        "   - Bivariate Analysis\n",
        "   - Multivariate Analysis\n",
        "3. Data Preprocessing\n",
        "   - Irrelevant Features Removal\n",
        "   - Missing Value Treatment\n",
        "   - Outlier Treatment\n",
        "   - Encoding Categorical Features\n",
        "   - Time Feature Transformation\n",
        "   - Feature Scaling\n",
        "   - Transforming Skewed Features"
      ]
    },
    {
      "cell_type": "markdown",
      "id": "9b987404",
      "metadata": {
        "papermill": {
          "duration": 0.039256,
          "end_time": "2023-08-02T20:42:33.320346",
          "exception": false,
          "start_time": "2023-08-02T20:42:33.281090",
          "status": "completed"
        },
        "tags": [],
        "id": "9b987404"
      },
      "source": [
        "<a id=\"contents_tabel\"></a>    \n",
        "<div style=\"border-radius:10px; padding: 15px; background-color: #e2c9ff; font-size:115%; text-align:left\">\n",
        "\n",
        "<h3 align=\"left\"><font color=#8502d1>Table of Contents:</font></h3>\n",
        "\n",
        "* [Step 1 | Import Libraries](#import)\n",
        "* [Step 2 | Read Dataset](#read)\n",
        "* [Step 3 | Dataset Overview](#overview)\n",
        "    - [Step 3.1 | Dataset Basic Information](#basic)\n",
        "    - [Step 3.2 | Summary Statistics for Numerical Variables](#cat_statistics)\n",
        "    - [Step 3.3 | Summary Statistics for Categorical Variables](#num_statistics)\n",
        "* [Step 4 | EDA](#eda)\n",
        "    - [Step 4.1 | Univariate Analysis](#univariate)\n",
        "    - [Step 4.2 | Bivariate Analysis](#bivariate)\n",
        "    - [Step 4.3 | Multivariate Analysis](#multivariate)\n",
        "* [Step 5 | Data Preprocessing](#preprocessing)\n",
        "    - [Step 5.1 | Irrelevant Features Removal](#removal)\n",
        "    - [Step 5.2 | Missing Value Treatment](#missing)\n",
        "    - [Step 5.3 | Outlier Treatment](#outlier)\n",
        "    - [Step 5.4 | Categorical Features Encoding](#encoding)\n",
        "    - [Step 5.5 | Time Feature Transformation](#time)\n",
        "    - [Step 5.6 | Feature Scaling](#scaling)\n",
        "    - [Step 5.7 | Transforming Skewed Features](#boxcox)"
      ]
    },
    {
      "cell_type": "markdown",
      "id": "295e013a",
      "metadata": {
        "papermill": {
          "duration": 0.031897,
          "end_time": "2023-08-02T20:42:33.385221",
          "exception": false,
          "start_time": "2023-08-02T20:42:33.353324",
          "status": "completed"
        },
        "tags": [],
        "id": "295e013a"
      },
      "source": [
        "<h2 align=\"left\"><font color=#8502d1>Let's get started:</font></h2>"
      ]
    },
    {
      "cell_type": "markdown",
      "id": "1b921acd",
      "metadata": {
        "papermill": {
          "duration": 0.033646,
          "end_time": "2023-08-02T20:42:33.453474",
          "exception": false,
          "start_time": "2023-08-02T20:42:33.419828",
          "status": "completed"
        },
        "tags": [],
        "id": "1b921acd"
      },
      "source": [
        "<a id=\"import\"></a>\n",
        "# <p style=\"background-color:#8502d1; font-family:calibri; color:white; font-size:150%; text-align:center; border-radius:15px 50px;\">Step 1 | Import Libraries</p>\n",
        "\n",
        "⬆️ [Tabel of Contents](#contents_tabel)"
      ]
    },
    {
      "cell_type": "code",
      "execution_count": null,
      "id": "7268e50a",
      "metadata": {
        "execution": {
          "iopub.execute_input": "2023-08-02T20:42:33.517670Z",
          "iopub.status.busy": "2023-08-02T20:42:33.517144Z",
          "iopub.status.idle": "2023-08-02T20:42:35.584194Z",
          "shell.execute_reply": "2023-08-02T20:42:35.582992Z"
        },
        "papermill": {
          "duration": 2.102016,
          "end_time": "2023-08-02T20:42:35.586759",
          "exception": false,
          "start_time": "2023-08-02T20:42:33.484743",
          "status": "completed"
        },
        "tags": [],
        "id": "7268e50a"
      },
      "outputs": [],
      "source": [
        "import warnings\n",
        "warnings.filterwarnings(\"ignore\")\n",
        "\n",
        "import numpy as np\n",
        "import pandas as pd\n",
        "import matplotlib.pyplot as plt\n",
        "import seaborn as sns\n",
        "from sklearn.impute import KNNImputer\n",
        "from sklearn.preprocessing import StandardScaler\n",
        "from scipy import stats\n",
        "%matplotlib inline"
      ]
    },
    {
      "cell_type": "code",
      "execution_count": null,
      "id": "7bafc060",
      "metadata": {
        "execution": {
          "iopub.execute_input": "2023-08-02T20:42:35.648339Z",
          "iopub.status.busy": "2023-08-02T20:42:35.647893Z",
          "iopub.status.idle": "2023-08-02T20:42:35.653773Z",
          "shell.execute_reply": "2023-08-02T20:42:35.652827Z"
        },
        "papermill": {
          "duration": 0.039133,
          "end_time": "2023-08-02T20:42:35.655814",
          "exception": false,
          "start_time": "2023-08-02T20:42:35.616681",
          "status": "completed"
        },
        "tags": [],
        "id": "7bafc060"
      },
      "outputs": [],
      "source": [
        "# Set the resolution of the plotted figures\n",
        "plt.rcParams['figure.dpi'] = 120\n",
        "\n",
        "# Configure Seaborn plot styles: Set background color and use dark grid\n",
        "sns.set(rc={'axes.facecolor': '#F3E8FF'}, style='darkgrid')"
      ]
    },
    {
      "cell_type": "markdown",
      "id": "a14a9028",
      "metadata": {
        "papermill": {
          "duration": 0.029394,
          "end_time": "2023-08-02T20:42:35.715601",
          "exception": false,
          "start_time": "2023-08-02T20:42:35.686207",
          "status": "completed"
        },
        "tags": [],
        "id": "a14a9028"
      },
      "source": [
        "<a id=\"read\"></a>\n",
        "# <p style=\"background-color:#8502d1; font-family:calibri; color:white; font-size:150%; text-align:center; border-radius:15px 50px;\">Step 2 | Read Dataset</p>\n",
        "\n",
        "⬆️ [Tabel of Contents](#contents_tabel)"
      ]
    },
    {
      "cell_type": "markdown",
      "id": "b9a7a3a9",
      "metadata": {
        "papermill": {
          "duration": 0.02947,
          "end_time": "2023-08-02T20:42:35.775228",
          "exception": false,
          "start_time": "2023-08-02T20:42:35.745758",
          "status": "completed"
        },
        "tags": [],
        "id": "b9a7a3a9"
      },
      "source": [
        "<div style=\"border-radius:10px; padding: 15px; background-color: #e2c9ff; font-size:110%; text-align:left\">\n",
        "\n",
        "First, I am going to load the dataset:"
      ]
    },
    {
      "cell_type": "code",
      "execution_count": null,
      "id": "0e3306d0",
      "metadata": {
        "execution": {
          "iopub.execute_input": "2023-08-02T20:42:35.837359Z",
          "iopub.status.busy": "2023-08-02T20:42:35.836729Z",
          "iopub.status.idle": "2023-08-02T20:42:37.267854Z",
          "shell.execute_reply": "2023-08-02T20:42:37.266618Z"
        },
        "papermill": {
          "duration": 1.466075,
          "end_time": "2023-08-02T20:42:37.270843",
          "exception": false,
          "start_time": "2023-08-02T20:42:35.804768",
          "status": "completed"
        },
        "tags": [],
        "id": "0e3306d0"
      },
      "outputs": [],
      "source": [
        "# Read dataset\n",
        "df = pd.read_csv('https://raw.githubusercontent.com/hakimyameen/DS_ML_Work/main/flights_data.csv')\n",
        "df.head()"
      ]
    },
    {
      "cell_type": "markdown",
      "id": "d1a52104",
      "metadata": {
        "papermill": {
          "duration": 0.029544,
          "end_time": "2023-08-02T20:42:37.331891",
          "exception": false,
          "start_time": "2023-08-02T20:42:37.302347",
          "status": "completed"
        },
        "tags": [],
        "id": "d1a52104"
      },
      "source": [
        "<div style=\"border-radius:10px; padding: 15px; background-color: #e2c9ff; font-size:110%; text-align:left\">\n",
        "\n",
        "<h2 align=\"left\"><font color=#8502d1>Dataset Description:</font></h2>\n",
        "    \n",
        "| __Variable__ | __Description__ |\n",
        "|     :---      |       :---      |      \n",
        "| __id__ | A unique identifier assigned to each flight record in this dataset. |                \n",
        "| __year__ | The year in which the flight took place. The dataset includes flights from the year 2013 |                        \n",
        "| __month__ | The month of the year in which the flight occurred, represented by an integer ranging from 1 (January) to 12 (December) |\n",
        "| __day__ | The day of the month on which the flight took place, represented by an integer from 1 to 31 |\n",
        "| __dep_time__ | The actual departure time of the flight, represented in 24-hour format (hhmm) |                     \n",
        "| __sched_dep_time__ | The locally scheduled departure time of the flight, presented in a 24-hour format (hhmm) |\n",
        "| __dep_delay__ | The delay in flight departure, calculated as the difference (in minutes) between the actual and scheduled departure times. Positive values indicate a delay, while negative values indicate an early departure. |  \n",
        "| __arr_time__ | The actual arrival time of the flight, represented in 24-hour format (hhmm) |                      \n",
        "| __sched_arr_time__ | The locally scheduled arrival time of the flight, presented in a 24-hour format (hhmm) |\n",
        "| __arr_delay__ |  The delay in flight arrival, calculated as the difference (in minutes) between the actual and scheduled arrival times. Positive values indicate a delay, while negative values indicate an early arrival |\n",
        "| __carrier__ |  A two-letter code representing the airline carrier responsible for the flight |                      \n",
        "| __flight__ | The designated number of the flight |              \n",
        "| __tailnum__ | A unique identifier associated with the aircraft used for the flight |                      \n",
        "| __origin__ | A three-letter code signifying the airport from which the flight departed |\n",
        "| __dest__ | A three-letter code representing the airport at which the flight arrived |\n",
        "| __air_time__ | The duration of the flight, measured in minutes |                 \n",
        "| __distance__ | The total distance (in miles) between the origin and destination airports |\n",
        "| __hour__ | The hour component of the scheduled departure time, expressed in local time |\n",
        "| __minute__ | The minute component of the scheduled departure time, expressed in local time |\n",
        "| __time_hour__ | The scheduled departure time of the flight, represented in local time and formatted as \"yyyy-mm-dd hh:mm:ss\" |\n",
        "| __name__ | The full name of the airline carrier responsible for the flight |"
      ]
    },
    {
      "cell_type": "markdown",
      "id": "c28eb809",
      "metadata": {
        "papermill": {
          "duration": 0.029604,
          "end_time": "2023-08-02T20:42:37.391389",
          "exception": false,
          "start_time": "2023-08-02T20:42:37.361785",
          "status": "completed"
        },
        "tags": [],
        "id": "c28eb809"
      },
      "source": [
        "<a id=\"overview\"></a>\n",
        "# <p style=\"background-color:#8502d1; font-family:calibri; color:white; font-size:150%; text-align:center; border-radius:15px 50px;\">Step 3 | Dataset Overview</p>\n",
        "\n",
        "⬆️ [Tabel of Contents](#contents_tabel)"
      ]
    },
    {
      "cell_type": "markdown",
      "id": "9a19f97f",
      "metadata": {
        "papermill": {
          "duration": 0.029736,
          "end_time": "2023-08-02T20:42:37.451341",
          "exception": false,
          "start_time": "2023-08-02T20:42:37.421605",
          "status": "completed"
        },
        "tags": [],
        "id": "9a19f97f"
      },
      "source": [
        "<div style=\"border-radius:10px; padding: 15px; background-color: #e2c9ff; font-size:110%; text-align:left\">\n",
        "\n",
        "Now, I am goining to get a comprehensive overview of the dataset:"
      ]
    },
    {
      "cell_type": "markdown",
      "id": "656256ab",
      "metadata": {
        "papermill": {
          "duration": 0.029485,
          "end_time": "2023-08-02T20:42:37.510939",
          "exception": false,
          "start_time": "2023-08-02T20:42:37.481454",
          "status": "completed"
        },
        "tags": [],
        "id": "656256ab"
      },
      "source": [
        "<a id=\"basic\"></a>\n",
        "# <b><span style='color:darkorange'>Step 3.1 |</span><span style='color:#8502d1'> Dataset Basic Information</span></b>"
      ]
    },
    {
      "cell_type": "code",
      "execution_count": null,
      "id": "a8a547c1",
      "metadata": {
        "execution": {
          "iopub.execute_input": "2023-08-02T20:42:37.573219Z",
          "iopub.status.busy": "2023-08-02T20:42:37.572827Z",
          "iopub.status.idle": "2023-08-02T20:42:37.889718Z",
          "shell.execute_reply": "2023-08-02T20:42:37.888944Z"
        },
        "papermill": {
          "duration": 0.351434,
          "end_time": "2023-08-02T20:42:37.892219",
          "exception": false,
          "start_time": "2023-08-02T20:42:37.540785",
          "status": "completed"
        },
        "tags": [],
        "id": "a8a547c1"
      },
      "outputs": [],
      "source": [
        "# Display a concise summary of the dataframe.\n",
        "df.info()"
      ]
    },
    {
      "cell_type": "markdown",
      "id": "d47972b6",
      "metadata": {
        "papermill": {
          "duration": 0.02986,
          "end_time": "2023-08-02T20:42:37.952731",
          "exception": false,
          "start_time": "2023-08-02T20:42:37.922871",
          "status": "completed"
        },
        "tags": [],
        "id": "d47972b6"
      },
      "source": [
        "<div style=\"border-radius:10px; padding: 15px; background-color: #e2c9ff; font-size:110%; text-align:left\">\n",
        "\n",
        "<h2 align=\"left\"><font color=#8502d1>Inferences:</font></h2>\n",
        "\n",
        "* The dataset contains __215,427 entries__ (rows) and __21 columns__.\n",
        "    \n",
        "    \n",
        "* The columns are of different data types:\n",
        "    - integer (int64)\n",
        "    - float (float64)\n",
        "    - object (usually representing string or categorical data).\n",
        "    \n",
        "    \n",
        "* The dataset contains some __missing values__. Specifically, the columns `dep_time`, `dep_delay`, `arr_time`, `arr_delay`, `tailnum`, and `air_time` have a certain number of non-null entries, indicating that there are some missing values in these columns."
      ]
    },
    {
      "cell_type": "markdown",
      "id": "2c260f76",
      "metadata": {
        "papermill": {
          "duration": 0.032202,
          "end_time": "2023-08-02T20:42:38.015418",
          "exception": false,
          "start_time": "2023-08-02T20:42:37.983216",
          "status": "completed"
        },
        "tags": [],
        "id": "2c260f76"
      },
      "source": [
        "<div style=\"border-radius:10px; padding: 15px; background-color: #e2c9ff; font-size:110%; text-align:left\">\n",
        "\n",
        "Based on the data types and the feature explanations we had earlier, we can see that the `id` and `flight` features are indeed numerical in terms of data type, but categorical in terms of their semantics. These two features should be converted to string (__object__) data type for proper analysis and interpretation:"
      ]
    },
    {
      "cell_type": "code",
      "execution_count": null,
      "id": "90e4b171",
      "metadata": {
        "execution": {
          "iopub.execute_input": "2023-08-02T20:42:38.077585Z",
          "iopub.status.busy": "2023-08-02T20:42:38.077200Z",
          "iopub.status.idle": "2023-08-02T20:42:38.384294Z",
          "shell.execute_reply": "2023-08-02T20:42:38.383223Z"
        },
        "papermill": {
          "duration": 0.340882,
          "end_time": "2023-08-02T20:42:38.386892",
          "exception": false,
          "start_time": "2023-08-02T20:42:38.046010",
          "status": "completed"
        },
        "tags": [],
        "id": "90e4b171"
      },
      "outputs": [],
      "source": [
        "# Convert 'id' and 'flight' to object data type\n",
        "df['id'] = df['id'].astype(str)\n",
        "df['flight'] = df['flight'].astype(str)"
      ]
    },
    {
      "cell_type": "markdown",
      "id": "35d77207",
      "metadata": {
        "papermill": {
          "duration": 0.031147,
          "end_time": "2023-08-02T20:42:38.448606",
          "exception": false,
          "start_time": "2023-08-02T20:42:38.417459",
          "status": "completed"
        },
        "tags": [],
        "id": "35d77207"
      },
      "source": [
        "<a id=\"num_statistics\"></a>\n",
        "# <b><span style='color:darkorange'>Step 3.2 |</span><span style='color:#8502d1'> Summary Statistics for Numerical Variables</span></b>"
      ]
    },
    {
      "cell_type": "markdown",
      "id": "cfd14ebd",
      "metadata": {
        "papermill": {
          "duration": 0.029716,
          "end_time": "2023-08-02T20:42:38.508385",
          "exception": false,
          "start_time": "2023-08-02T20:42:38.478669",
          "status": "completed"
        },
        "tags": [],
        "id": "cfd14ebd"
      },
      "source": [
        "<div style=\"border-radius:10px; padding: 15px; background-color: #e2c9ff; font-size:110%; text-align:left\">\n",
        "\n",
        "Now let's look at the summary statistics of the numerical features:"
      ]
    },
    {
      "cell_type": "code",
      "execution_count": null,
      "id": "39c11f0c",
      "metadata": {
        "execution": {
          "iopub.execute_input": "2023-08-02T20:42:38.570250Z",
          "iopub.status.busy": "2023-08-02T20:42:38.569890Z",
          "iopub.status.idle": "2023-08-02T20:42:38.768906Z",
          "shell.execute_reply": "2023-08-02T20:42:38.768064Z"
        },
        "papermill": {
          "duration": 0.232394,
          "end_time": "2023-08-02T20:42:38.770895",
          "exception": false,
          "start_time": "2023-08-02T20:42:38.538501",
          "status": "completed"
        },
        "tags": [],
        "id": "39c11f0c"
      },
      "outputs": [],
      "source": [
        "# Get the summary statistics for numerical variables\n",
        "df.describe().T"
      ]
    },
    {
      "cell_type": "markdown",
      "id": "88544fc8",
      "metadata": {
        "papermill": {
          "duration": 0.030266,
          "end_time": "2023-08-02T20:42:38.832079",
          "exception": false,
          "start_time": "2023-08-02T20:42:38.801813",
          "status": "completed"
        },
        "tags": [],
        "id": "88544fc8"
      },
      "source": [
        "<div style=\"border-radius:10px; padding: 15px; background-color: #e2c9ff; font-size:110%; text-align:left\">\n",
        "\n",
        "<h2 align=\"left\"><font color=#8502d1>Inferences:</font></h2>\n",
        "    \n",
        "    \n",
        "* __`year`__: All records are from the year 2013, hence there is no variation.\n",
        "* __`month`__, __`day`__, __`hour`__, __`minute`__: These features show the scheduled departure date and time. They have a good range and seem to be evenly distributed throughout the year and day.\n",
        "* __`dep_time`__, __`sched_dep_time`__, __`arr_time`__, __`sched_arr_time`__: These are the actual and scheduled departure and arrival times of the flights. They are in the 24-hour format and cover all possible values.\n",
        "* __`dep_delay`__, __`arr_delay`__: These are our target variables. They show the departure and arrival delays in minutes. The values range from negative (early departure or arrival) to positive (late departure or arrival).\n",
        "* __`air_time`__: This is the flight duration in minutes. It varies from 20 to 695 minutes.\n",
        "* __`distance`__: This is the total distance between the origin and destination airports. It varies from 17 to 4983 miles.  "
      ]
    },
    {
      "cell_type": "markdown",
      "id": "5de70fa3",
      "metadata": {
        "papermill": {
          "duration": 0.030013,
          "end_time": "2023-08-02T20:42:38.892837",
          "exception": false,
          "start_time": "2023-08-02T20:42:38.862824",
          "status": "completed"
        },
        "tags": [],
        "id": "5de70fa3"
      },
      "source": [
        "<a id=\"cat_statistics\"></a>\n",
        "# <b><span style='color:darkorange'>Step 3.3 |</span><span style='color:#8502d1'> Summary Statistics for Categorical  Variables</span></b>"
      ]
    },
    {
      "cell_type": "markdown",
      "id": "60b6ba6c",
      "metadata": {
        "papermill": {
          "duration": 0.030175,
          "end_time": "2023-08-02T20:42:38.954301",
          "exception": false,
          "start_time": "2023-08-02T20:42:38.924126",
          "status": "completed"
        },
        "tags": [],
        "id": "60b6ba6c"
      },
      "source": [
        "<div style=\"border-radius:10px; padding: 15px; background-color: #e2c9ff; font-size:110%; text-align:left\">\n",
        "    \n",
        "Afterward, let's look at the summary statistics of the categorical features:"
      ]
    },
    {
      "cell_type": "code",
      "execution_count": null,
      "id": "b4e44962",
      "metadata": {
        "execution": {
          "iopub.execute_input": "2023-08-02T20:42:39.018174Z",
          "iopub.status.busy": "2023-08-02T20:42:39.017785Z",
          "iopub.status.idle": "2023-08-02T20:42:39.759377Z",
          "shell.execute_reply": "2023-08-02T20:42:39.758269Z"
        },
        "papermill": {
          "duration": 0.777146,
          "end_time": "2023-08-02T20:42:39.761876",
          "exception": false,
          "start_time": "2023-08-02T20:42:38.984730",
          "status": "completed"
        },
        "tags": [],
        "id": "b4e44962"
      },
      "outputs": [],
      "source": [
        "# Get the summary statistics for categorical variables\n",
        "df.describe(include='object')"
      ]
    },
    {
      "cell_type": "markdown",
      "id": "5eab8225",
      "metadata": {
        "papermill": {
          "duration": 0.031062,
          "end_time": "2023-08-02T20:42:39.823939",
          "exception": false,
          "start_time": "2023-08-02T20:42:39.792877",
          "status": "completed"
        },
        "tags": [],
        "id": "5eab8225"
      },
      "source": [
        "<div style=\"border-radius:10px; padding: 15px; background-color: #e2c9ff; font-size:110%; text-align:left\">\n",
        "\n",
        "<h2 align=\"left\"><font color=#8502d1>Inferences:</font></h2>\n",
        "    \n",
        "    \n",
        "* __`id`__, __`flight`__: These are unique identifiers and have a large number of unique values.\n",
        "* __`carrier`__, __`name`__: These are airline carrier codes and names. There are 16 unique carriers in the dataset.\n",
        "* __`tailnum`__: This is a unique identifier associated with the aircraft used for the flight. It also has a large number of unique values.\n",
        "* __`origin`__, __`dest`__: These are the airport codes from which the flight departed and at which it arrived. There are 3 unique origin airports and 105 unique destination airports in the dataset.\n",
        "* __`time_hour`__: This is the scheduled departure time of the flight, represented in local time and formatted as \"yyyy-mm-dd hh:mm:ss\". There are 6936 unique times in the dataset."
      ]
    },
    {
      "cell_type": "markdown",
      "id": "8cb76b2b",
      "metadata": {
        "papermill": {
          "duration": 0.03127,
          "end_time": "2023-08-02T20:42:39.886274",
          "exception": false,
          "start_time": "2023-08-02T20:42:39.855004",
          "status": "completed"
        },
        "tags": [],
        "id": "8cb76b2b"
      },
      "source": [
        "<a id=\"eda\"></a>\n",
        "# <p style=\"background-color:#8502d1; font-family:calibri; color:white; font-size:150%; text-align:center; border-radius:15px 50px;\">Step 4 | EDA</p>\n",
        "\n",
        "⬆️ [Tabel of Contents](#contents_tabel)"
      ]
    },
    {
      "cell_type": "markdown",
      "id": "ace2c0e6",
      "metadata": {
        "papermill": {
          "duration": 0.030864,
          "end_time": "2023-08-02T20:42:39.949359",
          "exception": false,
          "start_time": "2023-08-02T20:42:39.918495",
          "status": "completed"
        },
        "tags": [],
        "id": "ace2c0e6"
      },
      "source": [
        "<a id=\"univariate\"></a>\n",
        "# <b><span style='color:darkorange'>Step 4.1 |</span><span style='color:#8502d1'> Univariate Analysis</span></b>"
      ]
    },
    {
      "cell_type": "markdown",
      "id": "2504f010",
      "metadata": {
        "papermill": {
          "duration": 0.030488,
          "end_time": "2023-08-02T20:42:40.010893",
          "exception": false,
          "start_time": "2023-08-02T20:42:39.980405",
          "status": "completed"
        },
        "tags": [],
        "id": "2504f010"
      },
      "source": [
        "<div style=\"border-radius:10px; padding: 15px; background-color: #e2c9ff; font-size:110%; text-align:left\">\n",
        "    \n",
        "We can perform univariate analysis on these columns based on their datatype:\n",
        "\n",
        "* For __numerical__ data, we can use a histogram to visualize the data distribution. The number of bins should be chosen appropriately to represent the data well.\n",
        "* For __categorical__ data, we can use a bar plot to visualize the frequency of each category."
      ]
    },
    {
      "cell_type": "code",
      "execution_count": null,
      "id": "75fdfac2",
      "metadata": {
        "execution": {
          "iopub.execute_input": "2023-08-02T20:42:40.075486Z",
          "iopub.status.busy": "2023-08-02T20:42:40.074496Z",
          "iopub.status.idle": "2023-08-02T20:42:40.085257Z",
          "shell.execute_reply": "2023-08-02T20:42:40.084123Z"
        },
        "papermill": {
          "duration": 0.045172,
          "end_time": "2023-08-02T20:42:40.087655",
          "exception": false,
          "start_time": "2023-08-02T20:42:40.042483",
          "status": "completed"
        },
        "tags": [],
        "id": "75fdfac2"
      },
      "outputs": [],
      "source": [
        "# Set color for the plots\n",
        "color = '#8502d1'\n",
        "\n",
        "# Define function to plot histograms\n",
        "def plot_hist(column, bins, title, xlabel, fontsize=8, rotation=0):\n",
        "    plt.figure(figsize=(15,5))\n",
        "    counts, bins, patches = plt.hist(column, bins=bins, color=color, edgecolor='white')\n",
        "    plt.title(title, fontsize=15)\n",
        "    plt.xlabel(xlabel, fontsize=12)\n",
        "    plt.ylabel('Frequency', fontsize=12)\n",
        "\n",
        "    # Add text annotation for frequencies\n",
        "    bin_centers = 0.5 * (bins[:-1] + bins[1:])\n",
        "    for count, x in zip(counts, bin_centers):\n",
        "        if count > 0:\n",
        "            plt.text(x, count, str(int(count)), fontsize=fontsize, ha='center', va='bottom', rotation=rotation)\n",
        "    plt.show()\n",
        "\n",
        "# Define function to plot bar plots\n",
        "def plot_bar(column, title, xlabel, fontsize=8, rotation=0):\n",
        "    plt.figure(figsize=(15,5))\n",
        "    counts = column.value_counts()\n",
        "    counts.plot(kind='bar', color=color, edgecolor='white')\n",
        "    plt.title(title, fontsize=15)\n",
        "    plt.xlabel(xlabel, fontsize=12)\n",
        "    plt.ylabel('Frequency', fontsize=12)\n",
        "\n",
        "    # Add text annotation for frequencies with rotation and larger font size\n",
        "    for i, v in enumerate(counts):\n",
        "        plt.text(i, v, str(v), fontsize=fontsize, ha='center', va='bottom', rotation=rotation)\n",
        "    plt.show()"
      ]
    },
    {
      "cell_type": "markdown",
      "id": "182b51a3",
      "metadata": {
        "papermill": {
          "duration": 0.030452,
          "end_time": "2023-08-02T20:42:40.148931",
          "exception": false,
          "start_time": "2023-08-02T20:42:40.118479",
          "status": "completed"
        },
        "tags": [],
        "id": "182b51a3"
      },
      "source": [
        "### <b><span style='color:darkorange'>Step 4.1.1 |</span><span style='color:#8502d1'> year</span></b>"
      ]
    },
    {
      "cell_type": "code",
      "execution_count": null,
      "id": "2edd5dfd",
      "metadata": {
        "execution": {
          "iopub.execute_input": "2023-08-02T20:42:40.212157Z",
          "iopub.status.busy": "2023-08-02T20:42:40.211720Z",
          "iopub.status.idle": "2023-08-02T20:42:40.561663Z",
          "shell.execute_reply": "2023-08-02T20:42:40.560438Z"
        },
        "papermill": {
          "duration": 0.384443,
          "end_time": "2023-08-02T20:42:40.564094",
          "exception": false,
          "start_time": "2023-08-02T20:42:40.179651",
          "status": "completed"
        },
        "tags": [],
        "id": "2edd5dfd"
      },
      "outputs": [],
      "source": [
        "# The year in which the flight took place. The dataset includes flights from the year 2013.\n",
        "plot_bar(df['year'], 'Year', 'Year of Flight')"
      ]
    },
    {
      "cell_type": "markdown",
      "id": "7f8ce70e",
      "metadata": {
        "papermill": {
          "duration": 0.031536,
          "end_time": "2023-08-02T20:42:40.630002",
          "exception": false,
          "start_time": "2023-08-02T20:42:40.598466",
          "status": "completed"
        },
        "tags": [],
        "id": "7f8ce70e"
      },
      "source": [
        "<div style=\"border-radius:10px; padding: 15px; background-color: #e2c9ff; font-size:110%; text-align:left\">\n",
        "\n",
        "<h2 align=\"left\"><font color=#8502d1>Inference:</font></h2>\n",
        "    \n",
        "The dataset contains flight data for only one year (__2013__), so the bar plot only has one bar."
      ]
    },
    {
      "cell_type": "markdown",
      "id": "55df5088",
      "metadata": {
        "papermill": {
          "duration": 0.031033,
          "end_time": "2023-08-02T20:42:40.692580",
          "exception": false,
          "start_time": "2023-08-02T20:42:40.661547",
          "status": "completed"
        },
        "tags": [],
        "id": "55df5088"
      },
      "source": [
        "### <b><span style='color:darkorange'>Step 4.1.2 |</span><span style='color:#8502d1'> month</span></b>"
      ]
    },
    {
      "cell_type": "code",
      "execution_count": null,
      "id": "fb18fe4a",
      "metadata": {
        "execution": {
          "iopub.execute_input": "2023-08-02T20:42:40.757591Z",
          "iopub.status.busy": "2023-08-02T20:42:40.756820Z",
          "iopub.status.idle": "2023-08-02T20:42:41.199611Z",
          "shell.execute_reply": "2023-08-02T20:42:41.198431Z"
        },
        "papermill": {
          "duration": 0.477775,
          "end_time": "2023-08-02T20:42:41.201946",
          "exception": false,
          "start_time": "2023-08-02T20:42:40.724171",
          "status": "completed"
        },
        "tags": [],
        "id": "fb18fe4a"
      },
      "outputs": [],
      "source": [
        "# The month of the year in which the flight occurred, represented by an integer ranging from 1 (January) to 12 (December).\n",
        "plot_hist(df['month'], bins=12, title='Month', xlabel='Month of Flight')"
      ]
    },
    {
      "cell_type": "markdown",
      "id": "013a1d39",
      "metadata": {
        "papermill": {
          "duration": 0.03187,
          "end_time": "2023-08-02T20:42:41.266005",
          "exception": false,
          "start_time": "2023-08-02T20:42:41.234135",
          "status": "completed"
        },
        "tags": [],
        "id": "013a1d39"
      },
      "source": [
        "<div style=\"border-radius:10px; padding: 15px; background-color: #e2c9ff; font-size:110%; text-align:left\">\n",
        "\n",
        "<h2 align=\"left\"><font color=#8502d1>Inference:</font></h2>\n",
        "\n",
        "The histogram shows that the distribution of flights across different months is approximately uniform, with __a slight decrease in February__, which is likely due to the fewer number of days in that month."
      ]
    },
    {
      "cell_type": "markdown",
      "id": "4f3038c2",
      "metadata": {
        "papermill": {
          "duration": 0.03156,
          "end_time": "2023-08-02T20:42:41.329969",
          "exception": false,
          "start_time": "2023-08-02T20:42:41.298409",
          "status": "completed"
        },
        "tags": [],
        "id": "4f3038c2"
      },
      "source": [
        "### <b><span style='color:darkorange'>Step 4.1.3 |</span><span style='color:#8502d1'> day</span></b>"
      ]
    },
    {
      "cell_type": "code",
      "execution_count": null,
      "id": "51c18e4d",
      "metadata": {
        "execution": {
          "iopub.execute_input": "2023-08-02T20:42:41.397920Z",
          "iopub.status.busy": "2023-08-02T20:42:41.397136Z",
          "iopub.status.idle": "2023-08-02T20:42:41.896514Z",
          "shell.execute_reply": "2023-08-02T20:42:41.895187Z"
        },
        "papermill": {
          "duration": 0.536264,
          "end_time": "2023-08-02T20:42:41.899240",
          "exception": false,
          "start_time": "2023-08-02T20:42:41.362976",
          "status": "completed"
        },
        "tags": [],
        "id": "51c18e4d"
      },
      "outputs": [],
      "source": [
        "# The day of the month on which the flight took place, represented by an integer from 1 to 31.\n",
        "plot_hist(df['day'], bins=31, title='Day', xlabel='Day of Flight', fontsize=7, rotation=45)"
      ]
    },
    {
      "cell_type": "markdown",
      "id": "94ff9e55",
      "metadata": {
        "papermill": {
          "duration": 0.034074,
          "end_time": "2023-08-02T20:42:41.969711",
          "exception": false,
          "start_time": "2023-08-02T20:42:41.935637",
          "status": "completed"
        },
        "tags": [],
        "id": "94ff9e55"
      },
      "source": [
        "<div style=\"border-radius:10px; padding: 15px; background-color: #e2c9ff; font-size:110%; text-align:left\">\n",
        "\n",
        "<h2 align=\"left\"><font color=#8502d1>Inference:</font></h2>\n",
        "    \n",
        "The histogram reveals a mostly uniform distribution of flights across the days of the month, with slight decreases at the end of the month. These decreases are due to some months having fewer than 31 days."
      ]
    },
    {
      "cell_type": "markdown",
      "id": "88fef904",
      "metadata": {
        "papermill": {
          "duration": 0.079379,
          "end_time": "2023-08-02T20:43:55.568168",
          "exception": false,
          "start_time": "2023-08-02T20:43:55.488789",
          "status": "completed"
        },
        "tags": [],
        "id": "88fef904"
      },
      "source": [
        "<div style=\"border-radius:10px; padding: 15px; background-color: #e2c9ff; font-size:110%; text-align:left\">\n",
        "\n",
        "<h2 align=\"left\"><font color=#8502d1>Conclusion:</font></h2>\n",
        "\n",
        "Based on the bivariate analysis, the features that have a __noticeable impact on arrival delay__ are:\n",
        "\n",
        "- Month\n",
        "- Departure Time and Scheduled Departure Time\n",
        "- Departure Delay\n",
        "- Arrival Time and Scheduled Arrival Time\n",
        "- Carrier\n",
        "- Origin\n",
        "- Destination\n",
        "- Hour\n",
        "\n",
        "On the other hand, the following features __do not__ seem to significantly __influence arrival delay__:\n",
        "\n",
        "- Day\n",
        "- Air Time\n",
        "- Distance\n",
        "- Minute"
      ]
    },
    {
      "cell_type": "markdown",
      "id": "4a8252ce",
      "metadata": {
        "papermill": {
          "duration": 0.083563,
          "end_time": "2023-08-02T20:44:08.000926",
          "exception": false,
          "start_time": "2023-08-02T20:44:07.917363",
          "status": "completed"
        },
        "tags": [],
        "id": "4a8252ce"
      },
      "source": [
        "# **Step 5 | Data Preprocessing**\n"
      ]
    },
    {
      "cell_type": "markdown",
      "id": "49490289",
      "metadata": {
        "papermill": {
          "duration": 0.088725,
          "end_time": "2023-08-02T20:44:08.175762",
          "exception": false,
          "start_time": "2023-08-02T20:44:08.087037",
          "status": "completed"
        },
        "tags": [],
        "id": "49490289"
      },
      "source": [
        "<div style=\"border-radius:10px; padding: 15px; background-color: #e2c9ff; font-size:110%; text-align:left\">\n",
        "\n",
        "Data preprocessing is a crucial step in any machine learning project. It involves cleaning and transforming raw data into a format that can be understood by machine learning algorithms."
      ]
    },
    {
      "cell_type": "markdown",
      "id": "7a19484a",
      "metadata": {
        "papermill": {
          "duration": 0.084008,
          "end_time": "2023-08-02T20:44:08.343175",
          "exception": false,
          "start_time": "2023-08-02T20:44:08.259167",
          "status": "completed"
        },
        "tags": [],
        "id": "7a19484a"
      },
      "source": [
        "<a id=\"removal\"></a>\n",
        "# <b><span style='color:darkorange'>Step 5.1 |</span><span style='color:#8502d1'> Irrelevant Feature Removal</span></b>"
      ]
    },
    {
      "cell_type": "markdown",
      "id": "030ae785",
      "metadata": {
        "papermill": {
          "duration": 0.084917,
          "end_time": "2023-08-02T20:44:08.513264",
          "exception": false,
          "start_time": "2023-08-02T20:44:08.428347",
          "status": "completed"
        },
        "tags": [],
        "id": "030ae785"
      },
      "source": [
        "<div style=\"border-radius:10px; padding: 15px; background-color: #e2c9ff; font-size:110%; text-align:left\">\n",
        "\n",
        "Based on our careful review and exploratory data analysis so far, here's a rundown of each feature I am going to take out of the picture:\n",
        "    \n",
        "- __`id`__: This is a unique identifier assigned to each flight record in the dataset. It carries no informational value for the model, as it does not reflect any characteristic of the flights.\n",
        "\n",
        "- __`year`__: All the flights took place in 2013, so this feature is a constant for all records. A constant feature cannot improve the model's performance, because it does not contribute any information that can help distinguish one record from another.\n",
        "\n",
        "- __`flight`__: This feature represents the designated number of the flight. However, there are many unique flight numbers (3844), which could lead to overfitting. Each flight number corresponds to a specific route, and while it's true that some routes may be more prone to delays than others, the high dimensionality of this feature may be more harmful than helpful.\n",
        "\n",
        "- __`tailnum`__: This feature is a unique identifier associated with each aircraft used for the flight. There are even more unique tail numbers (4043) than there are unique flight numbers. Although certain aircraft may be more prone to delays (e.g., older planes that require more maintenance), again, the high dimensionality of this feature may lead to overfitting.\n",
        "\n",
        "- __`time_hour`__: This feature represents the scheduled departure time of the flight, formatted as \"yyyy-mm-dd hh:mm:ss\". Since we have separate features for the year, month, day, and scheduled departure time (in the form of `sched_dep_time`), this feature is redundant and should be removed.\n",
        "\n",
        "- __`minute`__: This feature represents the minute component of the scheduled departure time. We already have `sched_dep_time` that includes this information. Hence, `minute` can be removed.\n",
        "\n",
        "- __`hour`__: Similar to `minute`, this feature is also redundant as we already have `sched_dep_time`. So `hour` should be removed as well.\n",
        "\n",
        "- __`carrier`__: This is a two-letter code representing the airline carrier responsible for the flight. We have another feature, `name`, which represents the same information but in a more descriptive form (the full name of the airline carrier). To avoid redundancy, we can remove `carrier` and keep `name`."
      ]
    },
    {
      "cell_type": "code",
      "execution_count": null,
      "id": "1cf684b4",
      "metadata": {
        "execution": {
          "iopub.execute_input": "2023-08-02T20:44:08.682954Z",
          "iopub.status.busy": "2023-08-02T20:44:08.682278Z",
          "iopub.status.idle": "2023-08-02T20:44:08.713975Z",
          "shell.execute_reply": "2023-08-02T20:44:08.712749Z"
        },
        "papermill": {
          "duration": 0.119943,
          "end_time": "2023-08-02T20:44:08.716363",
          "exception": false,
          "start_time": "2023-08-02T20:44:08.596420",
          "status": "completed"
        },
        "tags": [],
        "id": "1cf684b4"
      },
      "outputs": [],
      "source": [
        "df.drop(['id', 'year', 'flight', 'tailnum', 'time_hour', 'minute', 'hour', 'carrier'], axis=1, inplace=True)"
      ]
    },
    {
      "cell_type": "markdown",
      "id": "199d59a5",
      "metadata": {
        "papermill": {
          "duration": 0.083876,
          "end_time": "2023-08-02T20:44:08.884518",
          "exception": false,
          "start_time": "2023-08-02T20:44:08.800642",
          "status": "completed"
        },
        "tags": [],
        "id": "199d59a5"
      },
      "source": [
        "<div style=\"border-radius:10px; padding: 15px; background-color: #e2c9ff; font-size:110%; text-align:left\">\n",
        "    \n",
        "Let us check the list of remaining features:"
      ]
    },
    {
      "cell_type": "code",
      "execution_count": null,
      "id": "49662873",
      "metadata": {
        "execution": {
          "iopub.execute_input": "2023-08-02T20:44:09.058951Z",
          "iopub.status.busy": "2023-08-02T20:44:09.058551Z",
          "iopub.status.idle": "2023-08-02T20:44:09.065253Z",
          "shell.execute_reply": "2023-08-02T20:44:09.064158Z"
        },
        "papermill": {
          "duration": 0.097686,
          "end_time": "2023-08-02T20:44:09.067431",
          "exception": false,
          "start_time": "2023-08-02T20:44:08.969745",
          "status": "completed"
        },
        "tags": [],
        "id": "49662873"
      },
      "outputs": [],
      "source": [
        "df.columns"
      ]
    },
    {
      "cell_type": "markdown",
      "id": "8dd287d6",
      "metadata": {
        "papermill": {
          "duration": 0.084301,
          "end_time": "2023-08-02T20:44:09.235295",
          "exception": false,
          "start_time": "2023-08-02T20:44:09.150994",
          "status": "completed"
        },
        "tags": [],
        "id": "8dd287d6"
      },
      "source": [
        "____\n",
        "<a id=\"missing\"></a>\n",
        "# <b><span style='color:darkorange'>Step 5.2 |</span><span style='color:#8502d1'>  Missing Value Treatment</span></b>"
      ]
    },
    {
      "cell_type": "markdown",
      "id": "bd3852a4",
      "metadata": {
        "papermill": {
          "duration": 0.08331,
          "end_time": "2023-08-02T20:44:09.401987",
          "exception": false,
          "start_time": "2023-08-02T20:44:09.318677",
          "status": "completed"
        },
        "tags": [],
        "id": "bd3852a4"
      },
      "source": [
        "<div style=\"border-radius:10px; padding: 15px; background-color: #e2c9ff; font-size:110%; text-align:left\">\n",
        "    \n",
        "__Missing data__ can disrupt many machine learning algorithms. It's crucial to handle these appropriately. Depending on the nature of the data and the percentage of missing values, we can:\n",
        "\n",
        "* Drop the rows or columns with missing data, especially if the percentage of missing data is very high.\n",
        "* Fill the missing data with a central tendency measure (mean, median, or mode).\n",
        "* Predict the missing values using a machine learning algorithm like KNN.\n",
        "* Use algorithms that can handle missing values."
      ]
    },
    {
      "cell_type": "code",
      "execution_count": null,
      "id": "a83f94ac",
      "metadata": {
        "execution": {
          "iopub.execute_input": "2023-08-02T20:44:09.572019Z",
          "iopub.status.busy": "2023-08-02T20:44:09.571100Z",
          "iopub.status.idle": "2023-08-02T20:44:09.743339Z",
          "shell.execute_reply": "2023-08-02T20:44:09.741477Z"
        },
        "papermill": {
          "duration": 0.260384,
          "end_time": "2023-08-02T20:44:09.745850",
          "exception": false,
          "start_time": "2023-08-02T20:44:09.485466",
          "status": "completed"
        },
        "tags": [],
        "id": "a83f94ac"
      },
      "outputs": [],
      "source": [
        "# Check the percentage of missing values in each column\n",
        "missing_percent = df.isnull().mean().sort_values(ascending=False) * 100\n",
        "print(\"Missing Value Percentage by Columns:\\n\", round(missing_percent,2))"
      ]
    },
    {
      "cell_type": "markdown",
      "id": "ae9524cf",
      "metadata": {
        "papermill": {
          "duration": 0.08486,
          "end_time": "2023-08-02T20:44:09.914800",
          "exception": false,
          "start_time": "2023-08-02T20:44:09.829940",
          "status": "completed"
        },
        "tags": [],
        "id": "ae9524cf"
      },
      "source": [
        "<div style=\"border-radius:10px; padding: 15px; background-color: #e2c9ff; font-size:110%; text-align:left\">\n",
        "\n",
        "Some of the missing values belong to the __target column__ (__`arr_delay`__). So, first I am going to drop rows with missing target values (`arr_delay`) to avoid introducing bias into our model. This is because we want our model to learn from actual observations, not from imputed values:"
      ]
    },
    {
      "cell_type": "code",
      "execution_count": null,
      "id": "afe893d9",
      "metadata": {
        "execution": {
          "iopub.execute_input": "2023-08-02T20:44:10.092013Z",
          "iopub.status.busy": "2023-08-02T20:44:10.091031Z",
          "iopub.status.idle": "2023-08-02T20:44:10.126113Z",
          "shell.execute_reply": "2023-08-02T20:44:10.125000Z"
        },
        "papermill": {
          "duration": 0.124568,
          "end_time": "2023-08-02T20:44:10.128935",
          "exception": false,
          "start_time": "2023-08-02T20:44:10.004367",
          "status": "completed"
        },
        "tags": [],
        "id": "afe893d9"
      },
      "outputs": [],
      "source": [
        "df.dropna(subset=['arr_delay'], inplace=True)\n",
        "df.reset_index(drop=True, inplace=True)"
      ]
    },
    {
      "cell_type": "markdown",
      "id": "b178b6e6",
      "metadata": {
        "papermill": {
          "duration": 0.087445,
          "end_time": "2023-08-02T20:44:10.303223",
          "exception": false,
          "start_time": "2023-08-02T20:44:10.215778",
          "status": "completed"
        },
        "tags": [],
        "id": "b178b6e6"
      },
      "source": [
        "<div style=\"border-radius:10px; padding: 15px; background-color: #e2c9ff; font-size:110%; text-align:left\">\n",
        "    \n",
        "Then i am using a __K-Nearest Neighbors (KNN) Imputer__ to fill in missing values in other columns. The KNN imputer is a more advanced imputation method that fills missing values based on similar observations, rather than just using the mean or median. This allows us to capture more complex patterns in the data, potentially leading to more accurate imputations:  "
      ]
    },
    {
      "cell_type": "code",
      "execution_count": null,
      "id": "87c46840",
      "metadata": {
        "execution": {
          "iopub.execute_input": "2023-08-02T20:44:10.478439Z",
          "iopub.status.busy": "2023-08-02T20:44:10.477719Z",
          "iopub.status.idle": "2023-08-02T20:44:10.703046Z",
          "shell.execute_reply": "2023-08-02T20:44:10.701643Z"
        },
        "papermill": {
          "duration": 0.314815,
          "end_time": "2023-08-02T20:44:10.705647",
          "exception": false,
          "start_time": "2023-08-02T20:44:10.390832",
          "status": "completed"
        },
        "tags": [],
        "id": "87c46840"
      },
      "outputs": [],
      "source": [
        "# Separate features and target\n",
        "X = df.drop(columns=['arr_delay'])\n",
        "y = df['arr_delay']\n",
        "\n",
        "# Initialize the imputer\n",
        "imputer = KNNImputer(n_neighbors=5)\n",
        "\n",
        "# Apply the imputer\n",
        "columns_to_impute = ['dep_time', 'dep_delay', 'arr_time', 'air_time']\n",
        "X[columns_to_impute] = imputer.fit_transform(X[columns_to_impute])\n",
        "\n",
        "# Check missing values again\n",
        "X.isnull().sum().sum()"
      ]
    },
    {
      "cell_type": "markdown",
      "id": "a6c1d73c",
      "metadata": {
        "papermill": {
          "duration": 0.084055,
          "end_time": "2023-08-02T20:44:10.874627",
          "exception": false,
          "start_time": "2023-08-02T20:44:10.790572",
          "status": "completed"
        },
        "tags": [],
        "id": "a6c1d73c"
      },
      "source": [
        "<div style=\"border-radius:10px; padding: 15px; background-color: #e2c9ff; font-size:110%; text-align:left\">\n",
        "\n",
        "<h2 align=\"left\"><font color=#8502d1>Note:</font></h2>\n",
        "\n",
        "The separation of features and target before imputation ensures that our imputation process is not influenced by the target values, thereby preventing data leakage."
      ]
    },
    {
      "cell_type": "markdown",
      "id": "cfc5fadf",
      "metadata": {
        "papermill": {
          "duration": 0.084783,
          "end_time": "2023-08-02T20:44:11.044822",
          "exception": false,
          "start_time": "2023-08-02T20:44:10.960039",
          "status": "completed"
        },
        "tags": [],
        "id": "cfc5fadf"
      },
      "source": [
        "____\n",
        "<a id=\"outlier\"></a>\n",
        "# <b><span style='color:darkorange'>Step 5.3 |</span><span style='color:#8502d1'>  Outlier Treatment</span></b>"
      ]
    },
    {
      "cell_type": "markdown",
      "id": "8c8e456f",
      "metadata": {
        "papermill": {
          "duration": 0.085451,
          "end_time": "2023-08-02T20:44:11.217189",
          "exception": false,
          "start_time": "2023-08-02T20:44:11.131738",
          "status": "completed"
        },
        "tags": [],
        "id": "8c8e456f"
      },
      "source": [
        "<div style=\"border-radius:10px; padding: 15px; background-color: #e2c9ff; font-size:110%; text-align:left\">\n",
        "\n",
        "__Outliers__ are values that stand out from the rest because they're very different. They can sometimes cause problems, especially when we're doing something like __regression__, where outliers can have a big impact.\n",
        "\n",
        "__In our flight delay data, these outliers represent the really long delays. These aren't errors or mistakes, they're a real part of flying that we want our model to learn from. So, we don't want to just throw these values away.__\n",
        "\n",
        "But we also don't want these outliers to have too much influence. So, we use something called a __Box-Cox transformation__ later. __This is a way of adjusting our data to make the outliers less extreme, without getting rid of them.__\n",
        "\n",
        "This way, our model can still learn from the outliers - the really long delays - but they won't have an outsized impact. And this is important because even though our model, regression, is usually sensitive to outliers, we still want it to learn from all parts of our data."
      ]
    },
    {
      "cell_type": "markdown",
      "id": "9cee054b",
      "metadata": {
        "papermill": {
          "duration": 0.083196,
          "end_time": "2023-08-02T20:44:11.385260",
          "exception": false,
          "start_time": "2023-08-02T20:44:11.302064",
          "status": "completed"
        },
        "tags": [],
        "id": "9cee054b"
      },
      "source": [
        "____\n",
        "<a id=\"encoding\"></a>\n",
        "# <b><span style='color:darkorange'>Step 5.4 |</span><span style='color:#8502d1'> Categorical Features Encoding</span></b>"
      ]
    },
    {
      "cell_type": "markdown",
      "id": "553b93f6",
      "metadata": {
        "papermill": {
          "duration": 0.153406,
          "end_time": "2023-08-02T20:44:11.627088",
          "exception": false,
          "start_time": "2023-08-02T20:44:11.473682",
          "status": "completed"
        },
        "tags": [],
        "id": "553b93f6"
      },
      "source": [
        "<div style=\"border-radius:10px; padding: 15px; background-color: #e2c9ff; font-size:110%; text-align:left\">\n",
        "    \n",
        "Categorical variables need to be encoded because machine learning algorithms work with numerical data and cannot directly handle text or categorical data. First of all let's identify categorical columns:"
      ]
    },
    {
      "cell_type": "code",
      "execution_count": null,
      "id": "17e8bc99",
      "metadata": {
        "execution": {
          "iopub.execute_input": "2023-08-02T20:44:11.800080Z",
          "iopub.status.busy": "2023-08-02T20:44:11.799100Z",
          "iopub.status.idle": "2023-08-02T20:44:11.897761Z",
          "shell.execute_reply": "2023-08-02T20:44:11.896597Z"
        },
        "papermill": {
          "duration": 0.189345,
          "end_time": "2023-08-02T20:44:11.900355",
          "exception": false,
          "start_time": "2023-08-02T20:44:11.711010",
          "status": "completed"
        },
        "tags": [],
        "id": "17e8bc99"
      },
      "outputs": [],
      "source": [
        "# Identify categorical columns\n",
        "cat_columns = X.select_dtypes(include=['object']).columns\n",
        "\n",
        "# Check the number of unique categories in each categorical feature\n",
        "X[cat_columns].nunique()"
      ]
    },
    {
      "cell_type": "markdown",
      "id": "1286f839",
      "metadata": {
        "papermill": {
          "duration": 0.089591,
          "end_time": "2023-08-02T20:44:12.077061",
          "exception": false,
          "start_time": "2023-08-02T20:44:11.987470",
          "status": "completed"
        },
        "tags": [],
        "id": "1286f839"
      },
      "source": [
        "<div style=\"border-radius:10px; padding: 15px; background-color: #e2c9ff; font-size:110%; text-align:left\">\n",
        "    \n",
        "We identified `origin`, `dest`, and `name` as __nominal categorical features__ (containing categories without any inherent order). Before proceeding with encoding, however, it would be helpful to check how balanced the categories are within each feature. For example, if a feature has a category that is very rarely present in the data, one-hot encoding could result in a column with mostly zeros, which might not be very informative for the model:"
      ]
    },
    {
      "cell_type": "code",
      "execution_count": null,
      "id": "f0ac7da6",
      "metadata": {
        "execution": {
          "iopub.execute_input": "2023-08-02T20:44:12.255934Z",
          "iopub.status.busy": "2023-08-02T20:44:12.255344Z",
          "iopub.status.idle": "2023-08-02T20:44:12.340520Z",
          "shell.execute_reply": "2023-08-02T20:44:12.339159Z"
        },
        "papermill": {
          "duration": 0.177093,
          "end_time": "2023-08-02T20:44:12.343169",
          "exception": false,
          "start_time": "2023-08-02T20:44:12.166076",
          "status": "completed"
        },
        "tags": [],
        "id": "f0ac7da6"
      },
      "outputs": [],
      "source": [
        "# Check the distribution of categories within each feature\n",
        "for col in cat_columns:\n",
        "    print(f\"\\nDistribution of categories in {col}:\")\n",
        "    print(X[col].value_counts())"
      ]
    },
    {
      "cell_type": "markdown",
      "id": "5b67a179",
      "metadata": {
        "papermill": {
          "duration": 0.086131,
          "end_time": "2023-08-02T20:44:12.515592",
          "exception": false,
          "start_time": "2023-08-02T20:44:12.429461",
          "status": "completed"
        },
        "tags": [],
        "id": "5b67a179"
      },
      "source": [
        "<div style=\"border-radius:10px; padding: 15px; background-color: #e2c9ff; font-size:110%; text-align:left\">\n",
        "    \n",
        "Here's what we found:\n",
        "\n",
        "* __`name`__: The `name` column has 16 unique categories, corresponding to different airline carriers. The distribution of categories is fairly balanced.\n",
        "    \n",
        "* __`origin`__: The `origin` column represents the airport from which the flight departed. There are 3 unique categories in this column, corresponding to three different airports. The distribution of categories is also quite balanced.\n",
        "\n",
        "* __`dest`__ : The `dest` column represents the airport at which the flight arrived. There are 105 unique categories in this column, which is quite high. Some destinations have many flights (like ORD, ATL, LAX), while others have very few (like LEX, LGA)."
      ]
    },
    {
      "cell_type": "markdown",
      "id": "8d2174af",
      "metadata": {
        "papermill": {
          "duration": 0.08744,
          "end_time": "2023-08-02T20:44:12.690999",
          "exception": false,
          "start_time": "2023-08-02T20:44:12.603559",
          "status": "completed"
        },
        "tags": [],
        "id": "8d2174af"
      },
      "source": [
        "<div style=\"border-radius:10px; padding: 15px; background-color: #e2c9ff; font-size:110%; text-align:left\">\n",
        "\n",
        "Based on the above observations, here's our plan for encoding:\n",
        "\n",
        "* __One-hot Encoding__: We can apply one-hot encoding to the `origin`, and `name` columns. These columns have relatively few categories and are fairly balanced.\n",
        "\n",
        "\n",
        "* __Frequency Encoding__: This method replaces each category in the feature with its frequency (i.e., the proportion of the total number of instances it represents). It's suitable for high-cardinality categorical features and does not introduce an arbitrary order. We will use this method for the `dest` feature, as it has a large number of unique categories, and the distribution is skewed, with some categories appearing much more frequently than others."
      ]
    },
    {
      "cell_type": "code",
      "source": [
        "X['dest'].unique()"
      ],
      "metadata": {
        "id": "xeHm0e39j08x"
      },
      "id": "xeHm0e39j08x",
      "execution_count": null,
      "outputs": []
    },
    {
      "cell_type": "code",
      "execution_count": null,
      "id": "31cff450",
      "metadata": {
        "execution": {
          "iopub.execute_input": "2023-08-02T20:44:12.866323Z",
          "iopub.status.busy": "2023-08-02T20:44:12.865959Z",
          "iopub.status.idle": "2023-08-02T20:44:13.130559Z",
          "shell.execute_reply": "2023-08-02T20:44:13.129669Z"
        },
        "papermill": {
          "duration": 0.353924,
          "end_time": "2023-08-02T20:44:13.132684",
          "exception": false,
          "start_time": "2023-08-02T20:44:12.778760",
          "status": "completed"
        },
        "tags": [],
        "id": "31cff450"
      },
      "outputs": [],
      "source": [
        "# Create a copy of the dataset for encoding\n",
        "X_encoded = X.copy()\n",
        "\n",
        "# Apply one-hot encoding to 'carrier', 'origin', and 'name'\n",
        "X_encoded = pd.get_dummies(X_encoded, columns=['origin', 'name'], drop_first=True)\n",
        "\n",
        "# Apply frequency encoding to 'dest'\n",
        "dest_freq = X_encoded['dest'].value_counts() / len(X_encoded)  # calculate the frequencies\n",
        "print(dest_freq)\n",
        "X_encoded['dest'] = X_encoded['dest'].map(dest_freq)  # map frequencies to the feature\n",
        "\n",
        "# Show the result\n",
        "X_encoded.head()"
      ]
    },
    {
      "cell_type": "markdown",
      "id": "2622df9d",
      "metadata": {
        "papermill": {
          "duration": 0.083858,
          "end_time": "2023-08-02T20:44:14.010129",
          "exception": false,
          "start_time": "2023-08-02T20:44:13.926271",
          "status": "completed"
        },
        "tags": [],
        "id": "2622df9d"
      },
      "source": [
        "____\n",
        "<a id=\"scaling\"></a>\n",
        "\n",
        "# <b><span style='color:darkorange'>Step 5.6 |</span><span style='color:#8502d1'> Feature Scaling</span></b>"
      ]
    },
    {
      "cell_type": "markdown",
      "id": "cbe72b64",
      "metadata": {
        "papermill": {
          "duration": 0.084868,
          "end_time": "2023-08-02T20:44:14.180168",
          "exception": false,
          "start_time": "2023-08-02T20:44:14.095300",
          "status": "completed"
        },
        "tags": [],
        "id": "cbe72b64"
      },
      "source": [
        "<div style=\"border-radius:10px; padding: 15px; background-color: #e2c9ff; font-size:110%; text-align:left\">\n",
        "\n",
        "__Feature Scaling__, also known as __standardization__ or __normalization__, is a crucial preprocessing step for many machine learning algorithms. It adjusts the range of feature values so that they can be compared on a common scale. __This adjustment is particularly important for algorithms that rely on the magnitude or distance of the features__, such as __k-nearest neighbors (KNN)__, __support vector machines (SVMs)__, and __neural networks__.\n",
        "\n",
        "When we perform feature scaling, we must avoid __data leakage__. This means that we should not let our scaling process be influenced by any data that isn't part of the training set. However, in our current scenario, we are using the entire dataset for training. Therefore, we can fit the scaler on the whole dataset."
      ]
    },
    {
      "cell_type": "markdown",
      "id": "40c04fa0",
      "metadata": {
        "papermill": {
          "duration": 0.083961,
          "end_time": "2023-08-02T20:44:14.348323",
          "exception": false,
          "start_time": "2023-08-02T20:44:14.264362",
          "status": "completed"
        },
        "tags": [],
        "id": "40c04fa0"
      },
      "source": [
        "<div style=\"border-radius:10px; padding: 15px; background-color: #e2c9ff; font-size:110%; text-align:left\">\n",
        "\n",
        "Now, let's discuss our data. Now, we have different types of features in our dataset: __continuous features__, __categorical features that have been one-hot encoded or frequency encoded__, and __cyclic features that have been transformed from time data__.\n",
        "\n",
        "For the continuous features, we'll use standard scaling (or Z-score normalization). This not only scales the features to a common range but also __handles outliers__ to a certain extent by centering the distribution around the mean with a unit standard deviation.\n",
        "\n",
        "For the __categorical features__ that have been transformed through frequency encoding, we should also apply standard scaling. Even though these features originated as categorical data, the encoding has transformed them into continuous features that can take on a range of values.\n",
        "\n",
        "As for the __binary features resulting from one-hot encoding, and cyclic features resulting from time transformation__, we don't need to apply scaling. Binary features already have values of 0 or 1, which are within the range of scaled data. Furthermore, applying scaling to binary features could distort their clear, interpretable structure. Cyclic features, on the other hand, have been engineered to capture the cyclical nature of time data, and scaling these could distort this cyclical pattern."
      ]
    },
    {
      "cell_type": "code",
      "execution_count": null,
      "id": "b2edad50",
      "metadata": {
        "execution": {
          "iopub.execute_input": "2023-08-02T20:44:14.521372Z",
          "iopub.status.busy": "2023-08-02T20:44:14.520504Z",
          "iopub.status.idle": "2023-08-02T20:44:14.843819Z",
          "shell.execute_reply": "2023-08-02T20:44:14.842708Z"
        },
        "papermill": {
          "duration": 0.413555,
          "end_time": "2023-08-02T20:44:14.846037",
          "exception": false,
          "start_time": "2023-08-02T20:44:14.432482",
          "status": "completed"
        },
        "tags": [],
        "id": "b2edad50"
      },
      "outputs": [],
      "source": [
        "# Define binary, cyclic, and continuous columns\n",
        "binary_cols     = [col for col in X_encoded.columns if X_encoded[col].value_counts().index.isin([0,1]).all()]\n",
        "cyclic_cols     = [col for col in X_encoded.columns if col.endswith('_cos') or col.endswith('_sin')]\n",
        "continuous_cols = [col for col in X_encoded.columns if col not in binary_cols + cyclic_cols]\n",
        "\n",
        "# Initialize the scaler\n",
        "scaler = StandardScaler()\n",
        "\n",
        "# Fit and transform the continuous features\n",
        "X_encoded[continuous_cols] = scaler.fit_transform(X_encoded[continuous_cols])\n",
        "\n",
        "# Show the result\n",
        "X_encoded.head()"
      ]
    },
    {
      "cell_type": "code",
      "execution_count": null,
      "id": "a51b9e93",
      "metadata": {
        "execution": {
          "iopub.execute_input": "2023-08-02T20:44:15.024754Z",
          "iopub.status.busy": "2023-08-02T20:44:15.024312Z",
          "iopub.status.idle": "2023-08-02T20:44:15.031342Z",
          "shell.execute_reply": "2023-08-02T20:44:15.030220Z"
        },
        "papermill": {
          "duration": 0.101142,
          "end_time": "2023-08-02T20:44:15.033584",
          "exception": false,
          "start_time": "2023-08-02T20:44:14.932442",
          "status": "completed"
        },
        "tags": [],
        "id": "a51b9e93"
      },
      "outputs": [],
      "source": [
        "continuous_cols"
      ]
    },
    {
      "cell_type": "markdown",
      "id": "1c6a1d48",
      "metadata": {
        "papermill": {
          "duration": 0.095707,
          "end_time": "2023-08-02T20:44:29.727977",
          "exception": false,
          "start_time": "2023-08-02T20:44:29.632270",
          "status": "completed"
        },
        "tags": [],
        "id": "1c6a1d48"
      },
      "source": [
        "<div style=\"border-radius:10px; padding: 15px; background-color: #e2c9ff; font-size:110%; text-align:left\">\n",
        "\n",
        "We've tidied up our data and it's now looking great! It's prepped, primed, and ready to dive into the world of machine learning models."
      ]
    },
    {
      "cell_type": "markdown",
      "id": "f8f347dd",
      "metadata": {
        "papermill": {
          "duration": 0.093508,
          "end_time": "2023-08-02T20:44:29.916940",
          "exception": false,
          "start_time": "2023-08-02T20:44:29.823432",
          "status": "completed"
        },
        "tags": [],
        "id": "f8f347dd"
      },
      "source": [
        "<h2 align=\"left\"><font color='#8502d1'>Best Regards - Yameen Hakim</font></h2>"
      ]
    }
  ],
  "metadata": {
    "kernelspec": {
      "display_name": "Python 3",
      "language": "python",
      "name": "python3"
    },
    "language_info": {
      "codemirror_mode": {
        "name": "ipython",
        "version": 3
      },
      "file_extension": ".py",
      "mimetype": "text/x-python",
      "name": "python",
      "nbconvert_exporter": "python",
      "pygments_lexer": "ipython3",
      "version": "3.10.12"
    },
    "papermill": {
      "default_parameters": {},
      "duration": 127.95373,
      "end_time": "2023-08-02T20:44:31.235317",
      "environment_variables": {},
      "exception": null,
      "input_path": "__notebook__.ipynb",
      "output_path": "__notebook__.ipynb",
      "parameters": {},
      "start_time": "2023-08-02T20:42:23.281587",
      "version": "2.4.0"
    },
    "colab": {
      "provenance": []
    }
  },
  "nbformat": 4,
  "nbformat_minor": 5
}